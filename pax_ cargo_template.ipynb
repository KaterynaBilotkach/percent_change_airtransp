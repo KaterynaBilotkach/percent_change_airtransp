{
 "cells": [
  {
   "cell_type": "markdown",
   "metadata": {},
   "source": [
    "For these calculations we use several datasets downloaded from Bureau of Transportation Statistics (transtats.bts.gov):\n",
    "- domestic (USA) air transportation statistics for July, years: 2014, 2019 and 2023 (including number of passengers and cargo transported);\n",
    "- international air transportation statistics for July, years: 2014, 2019 and 2023 (including number of passengers and cargo transported);\n",
    "E.g. there are 6 (six) data sets (cvs files) used.\n",
    "\n",
    "Here we calculate % change in number of passengers or cargo pounds moved by airlines between two time poins spaced 5 years apart. \n",
    "We used two time periods: pre-COVID years pair (July of 2014-July of 2019) and COVID + after-COVID years pair\n",
    "(July of 2019 - July of 2023). The first year in pair is labeled as year \"x\" and the later year is labelled as year \"y\".\n",
    "\n",
    "These caulations can be used for any other years or months user finds interesting to look into.\n",
    "\n",
    "These calculations will allow to answer a question whether flow of passengers and cargo via airports or countries might changed after\n",
    "COVID in comparison to pre-covid time-period (assuming that the rest of the monthes that year have similar passenger and cargo flows).\n",
    "\n",
    "For USA domestic market we calculated % of change on the level of airports and \n",
    "for international air transportation market we calculated % of cnang on the level of countries. \n",
    "\n",
    "Calculations scheme is:\n",
    "- group rows in a cvs file on origin-destination and calculate sums of passengers or cargo pounds transported;\n",
    "- merge resulted tables (dataframes) for a given pair of years using ('outer' merge). This will allow us to detect lost or acquired \n",
    "destinations later.\n",
    "- for USA domestic market only, we removed all pairs of origin-destination having less than 1000 passengers transported per month (July).\n",
    "This is done because there are multiple aircraft relocation flights or unplanned flights which can not be considered regular routes.\n",
    "Therefore we assume that if airline transports more than 1000 passengers per month per route, that will be a commercial route.\n",
    "We are only interested in commercial routes.\n",
    "\n",
    "- Then label each destination between years x and y as acquired, lost or no_change, using conditions:\n",
    "n passengers equal or more than zero etc in year x versus the same for year y. If n passenders or cargo dissapears in year y, this\n",
    "destination is labelled as lost; if passengers or cargo canged from zero to above zero in year y - destination is acquired;\n",
    "no_change label is given when there n passengers and cargo is above zero.\n",
    "\n",
    "Having destiantions labeled we group rows by origins and calculate how many destinations are lost or acquired or have no_change.\n",
    "The list of destinations is recorded for each category.\n",
    "\n",
    "% of change is calculates for an origin as delta in all passengers (or all cargo) transported for years x and y divided by n passengers\n",
    "(or cargo) for year x.\n",
    "For origins destination pairs where the only destination was acquired, % cnage is 100%; for the only one lost destination, % change is -100%.\n",
    "\n",
    "The results are plotted on three figures: two scatterplots and one bar plot. For 1st scatterplot we only plot origins having more than\n",
    "100K passengers per month. For barplot and 2d scatterplot, we only plot selected largest airports. \n",
    "\n",
    "I wanted to clreate a universal file for calculations so that at the beginning a user indicates files s/he wants to use, years (used in the\n",
    "files names), cargo or passengers and then the calculations take place automatically and created cvs files are stored on the disk\n",
    "(writing result files on disk is disabled by #."
   ]
  },
  {
   "cell_type": "code",
   "execution_count": 103,
   "metadata": {},
   "outputs": [],
   "source": [
    "import pandas as pd\n",
    "import numpy as np\n",
    "import random\n",
    "import string\n",
    "import matplotlib.pyplot as plt\n",
    "import plotly.express as px\n",
    "\n",
    "airports=['AFW', 'ANC', 'ATL', 'ATL', 'CVG', 'DFW', 'EWR', 'HNL', 'IAH', 'IND', 'INL', 'JFK', 'LAX',\n",
    "          'MIA', 'MEM', 'OAK', 'ONT', 'ORD', 'PDX', 'PHL','PHX','RFD', 'SBD', 'SDF', 'SEA']\n",
    "\n",
    "countries=['MX', 'CA', 'GB', 'FR', 'DE', 'NL', 'JP', 'CN', 'BR', 'IT', 'ES', 'KR']"
   ]
  },
  {
   "cell_type": "code",
   "execution_count": 104,
   "metadata": {},
   "outputs": [],
   "source": [
    "x = input(\"\\n Enter first year: 2014, 2019 or 2023: \")\n",
    "y = input(\"\\n Enter last year: 2014, 2019 or 2023: \")\n",
    "type1 = input(\"\\n Type dom or intl\" )\n",
    "type2 = input(\"\\n Type pax or cargo\")\n",
    "\n",
    "if type1 == \"dom\":\n",
    "  type3 = 'airpt'\n",
    "else:\n",
    "  type3 = 'countr'\n",
    "\n",
    "if type1 == \"dom\":\n",
    "  selection = airports\n",
    "else:\n",
    "  selection = countries"
   ]
  },
  {
   "cell_type": "code",
   "execution_count": 105,
   "metadata": {},
   "outputs": [
    {
     "name": "stdout",
     "output_type": "stream",
     "text": [
      "\n",
      " file_name_x: intl_july_2014.csv\n",
      "\n",
      " type <class 'str'>\n",
      "\n",
      " file_name_y: intl_july_2019.csv\n"
     ]
    }
   ],
   "source": [
    "file_name_x = type1 + \"_july_\" + x + \".csv\"\n",
    "file_name_y = type1 + \"_july_\" + y + \".csv\"\n",
    "\n",
    "print(\"\\n file_name_x:\", file_name_x)\n",
    "print(\"\\n type\", type(file_name_x))\n",
    "print(\"\\n file_name_y:\", file_name_y)\n",
    "\n",
    "# load data\n",
    "df_20x_i=pd.read_csv(file_name_x)\n",
    "df_20y_i=pd.read_csv(file_name_y)"
   ]
  },
  {
   "cell_type": "code",
   "execution_count": 106,
   "metadata": {},
   "outputs": [
    {
     "name": "stdout",
     "output_type": "stream",
     "text": [
      "y20x\n",
      "y20y\n"
     ]
    },
    {
     "data": {
      "text/plain": [
       "Index(['DEPARTURES_SCHEDULED', 'DEPARTURES_PERFORMED', 'PAYLOAD', 'SEATS',\n",
       "       'PASSENGERS', 'FREIGHT', 'MAIL', 'DISTANCE', 'RAMP_TO_RAMP', 'AIR_TIME',\n",
       "       'UNIQUE_CARRIER', 'AIRLINE_ID', 'UNIQUE_CARRIER_NAME',\n",
       "       'UNIQUE_CARRIER_ENTITY', 'REGION', 'CARRIER', 'CARRIER_NAME',\n",
       "       'CARRIER_GROUP', 'CARRIER_GROUP_NEW', 'ORIGIN_AIRPORT_ID',\n",
       "       'ORIGIN_AIRPORT_SEQ_ID', 'ORIGIN_CITY_MARKET_ID', 'ORIGIN',\n",
       "       'ORIGIN_CITY_NAME', 'ORIGIN_COUNTRY', 'ORIGIN_COUNTRY_NAME',\n",
       "       'ORIGIN_WAC', 'DEST_AIRPORT_ID', 'DEST_AIRPORT_SEQ_ID',\n",
       "       'DEST_CITY_MARKET_ID', 'DEST', 'DEST_CITY_NAME', 'DEST_COUNTRY',\n",
       "       'DEST_COUNTRY_NAME', 'DEST_WAC', 'AIRCRAFT_GROUP', 'AIRCRAFT_TYPE',\n",
       "       'AIRCRAFT_CONFIG', 'YEAR', 'QUARTER', 'MONTH', 'DISTANCE_GROUP',\n",
       "       'CLASS', 'CARGO'],\n",
       "      dtype='object')"
      ]
     },
     "execution_count": 106,
     "metadata": {},
     "output_type": "execute_result"
    }
   ],
   "source": [
    "# names will be used later to store temp dataframes\n",
    "df_20x_i.name='y20x'\n",
    "df_20y_i.name='y20y'\n",
    "\n",
    "#creating list of dataframes. Note with 'df' will be stored as string\n",
    "df_names=[df_20x_i, df_20y_i] # without '' can whole df acan be called\n",
    "\n",
    "# checking df names\n",
    "for i in df_names:\n",
    "    print(i.name)\n",
    "\n",
    "# adding new column cargo\n",
    "for i in df_names:\n",
    "    i['CARGO']=i['FREIGHT']+i['MAIL']\n",
    "\n",
    "# checking column names in one of the loaded df\n",
    "df_20x_i.keys()"
   ]
  },
  {
   "cell_type": "code",
   "execution_count": 107,
   "metadata": {},
   "outputs": [
    {
     "name": "stdout",
     "output_type": "stream",
     "text": [
      "\n",
      " index, np = 43 , column name: CARGO \n",
      " index, no = 24 , column name: ORIGIN_COUNTRY \n",
      " index, nd = 32 , column name: DEST_COUNTRY\n",
      "\n",
      " type1: intl \n",
      " type2: cargo \n",
      " type3: countr\n",
      "\n",
      " file_label intl_by_countr_cargo_yy2014_2019\n"
     ]
    }
   ],
   "source": [
    "if type1 == \"dom\":\n",
    "  no=df_20x_i.columns.get_loc(\"ORIGIN\")\n",
    "  nd=df_20x_i.columns.get_loc(\"DEST\")\n",
    "else:\n",
    "  no=df_20x_i.columns.get_loc(\"ORIGIN_COUNTRY\")\n",
    "  nd=df_20x_i.columns.get_loc(\"DEST_COUNTRY\")\n",
    "\n",
    "if type2 == \"pax\":\n",
    "  np=df_20x_i.columns.get_loc(\"PASSENGERS\")\n",
    "else:\n",
    "  np=df_20x_i.columns.get_loc(\"CARGO\")\n",
    "  \n",
    "print('\\n index, np =', np, ', column name:', df_20x_i.columns[np], \\\n",
    "'\\n index, no =', no, ', column name:', df_20x_i.columns[no], \\\n",
    "'\\n index, nd =', nd, ', column name:', df_20x_i.columns[nd])\n",
    "\n",
    "print(\"\\n type1:\", type1, \"\\n type2:\", type2, \"\\n type3:\", type3)\n",
    "\n",
    "file_label= type1 + \"_by_\" + type3 + \"_\" + type2 + \"_yy\" +x +\"_\"+y\n",
    "\n",
    "print(\"\\n file_label\", file_label)"
   ]
  },
  {
   "cell_type": "code",
   "execution_count": 108,
   "metadata": {},
   "outputs": [
    {
     "name": "stdout",
     "output_type": "stream",
     "text": [
      "y20x\n",
      "y20x after_gr Index(['ORIGIN_COUNTRY', 'DEST_COUNTRY', 'item_sum'], dtype='object')\n",
      "y20x +OD Index(['ORIGIN_COUNTRY', 'DEST_COUNTRY', 'item_sum', 'OD'], dtype='object')\n",
      "y20y\n",
      "y20y after_gr Index(['ORIGIN_COUNTRY', 'DEST_COUNTRY', 'item_sum'], dtype='object')\n"
     ]
    },
    {
     "name": "stdout",
     "output_type": "stream",
     "text": [
      "y20y +OD Index(['ORIGIN_COUNTRY', 'DEST_COUNTRY', 'item_sum', 'OD'], dtype='object')\n"
     ]
    }
   ],
   "source": [
    "# group each df for 20x_i and 20y_i by O (origin) and D (destination), sum number of passengers\n",
    "# creating column OD\n",
    "# \n",
    "# item_sum in the code below is the name of the new column (item is pax or cargo)\n",
    "# col - column; oper - operator\n",
    "# def - creates function\n",
    "\n",
    "def gr_df(df, col, oper):\n",
    "    result = df.groupby(\n",
    "    [i.columns[no],i.columns[nd]]\n",
    "    ).agg(\n",
    "        item_sum=(col, oper)).reset_index()\n",
    "    \n",
    "    return result\n",
    "    \n",
    "for i in df_names:\n",
    "    # file name to record df\n",
    "    name=i.name\n",
    "    print(name)\n",
    "    # group by\n",
    "    result = gr_df(i, i.columns[np], 'sum')\n",
    "    print(name, 'after_gr', result.keys())\n",
    "    # new OD column\n",
    "    result['OD'] = result[[i.columns[no], i.columns[nd]]].agg('-'.join, axis=1)\n",
    "    print(name, '+OD', result.keys())\n",
    "    result1=result.copy()\n",
    "    if type2 == \"pax\":\n",
    "        # leave only rows with npas >1000\n",
    "        result1= result[result['item_sum'] > 1000]\n",
    "        print(name, 'rows >1000', result.keys())\n",
    "        \n",
    "    # SAVING temporary dataframe as csv file with name\n",
    "    result1.to_csv(\"temp_\"+name +'.csv')\n",
    "    "
   ]
  },
  {
   "cell_type": "code",
   "execution_count": 109,
   "metadata": {},
   "outputs": [
    {
     "data": {
      "text/html": [
       "<div>\n",
       "<style scoped>\n",
       "    .dataframe tbody tr th:only-of-type {\n",
       "        vertical-align: middle;\n",
       "    }\n",
       "\n",
       "    .dataframe tbody tr th {\n",
       "        vertical-align: top;\n",
       "    }\n",
       "\n",
       "    .dataframe thead th {\n",
       "        text-align: right;\n",
       "    }\n",
       "</style>\n",
       "<table border=\"1\" class=\"dataframe\">\n",
       "  <thead>\n",
       "    <tr style=\"text-align: right;\">\n",
       "      <th></th>\n",
       "      <th>O</th>\n",
       "      <th>item_abstot_x</th>\n",
       "      <th>item_abstot_y</th>\n",
       "      <th>summary_outcome</th>\n",
       "      <th>list_apts</th>\n",
       "      <th>item_y_x</th>\n",
       "      <th>%_change</th>\n",
       "    </tr>\n",
       "  </thead>\n",
       "  <tbody>\n",
       "    <tr>\n",
       "      <th>0</th>\n",
       "      <td>AE</td>\n",
       "      <td>8784127.0</td>\n",
       "      <td>6094328.0</td>\n",
       "      <td>['n=1']</td>\n",
       "      <td>[\"n=['US']\"]</td>\n",
       "      <td>-2689799.0</td>\n",
       "      <td>-30.62</td>\n",
       "    </tr>\n",
       "    <tr>\n",
       "      <th>1</th>\n",
       "      <td>AG</td>\n",
       "      <td>213514.0</td>\n",
       "      <td>9335.0</td>\n",
       "      <td>['n=1']</td>\n",
       "      <td>[\"n=['US']\"]</td>\n",
       "      <td>-204179.0</td>\n",
       "      <td>-95.63</td>\n",
       "    </tr>\n",
       "    <tr>\n",
       "      <th>2</th>\n",
       "      <td>AI</td>\n",
       "      <td>0.0</td>\n",
       "      <td>0.0</td>\n",
       "      <td>['0=1']</td>\n",
       "      <td>[\"0=['US']\"]</td>\n",
       "      <td>0.0</td>\n",
       "      <td>100.00</td>\n",
       "    </tr>\n",
       "    <tr>\n",
       "      <th>3</th>\n",
       "      <td>AO</td>\n",
       "      <td>476920.0</td>\n",
       "      <td>0.0</td>\n",
       "      <td>['l=1']</td>\n",
       "      <td>[\"l=['US']\"]</td>\n",
       "      <td>-476920.0</td>\n",
       "      <td>-100.00</td>\n",
       "    </tr>\n",
       "    <tr>\n",
       "      <th>4</th>\n",
       "      <td>AR</td>\n",
       "      <td>4930304.0</td>\n",
       "      <td>7319950.0</td>\n",
       "      <td>['n=1']</td>\n",
       "      <td>[\"n=['US']\"]</td>\n",
       "      <td>2389646.0</td>\n",
       "      <td>48.47</td>\n",
       "    </tr>\n",
       "  </tbody>\n",
       "</table>\n",
       "</div>"
      ],
      "text/plain": [
       "    O  item_abstot_x  item_abstot_y summary_outcome     list_apts   item_y_x  \\\n",
       "0  AE      8784127.0      6094328.0         ['n=1']  [\"n=['US']\"] -2689799.0   \n",
       "1  AG       213514.0         9335.0         ['n=1']  [\"n=['US']\"]  -204179.0   \n",
       "2  AI            0.0            0.0         ['0=1']  [\"0=['US']\"]        0.0   \n",
       "3  AO       476920.0            0.0         ['l=1']  [\"l=['US']\"]  -476920.0   \n",
       "4  AR      4930304.0      7319950.0         ['n=1']  [\"n=['US']\"]  2389646.0   \n",
       "\n",
       "   %_change  \n",
       "0    -30.62  \n",
       "1    -95.63  \n",
       "2    100.00  \n",
       "3   -100.00  \n",
       "4     48.47  "
      ]
     },
     "execution_count": 109,
     "metadata": {},
     "output_type": "execute_result"
    }
   ],
   "source": [
    "# calculating variables\n",
    "\n",
    "# load two created temporary files\n",
    "y20x=pd.read_csv('temp_y20x.csv', index_col=0)\n",
    "y20y=pd.read_csv('temp_y20y.csv', index_col=0)\n",
    "\n",
    "# merge two y20x and y20y dataframes to find out what OD appeared, lost or got no change\n",
    "merged_yx_yy=y20x.merge(y20y, how='outer', on='OD')\n",
    "\n",
    "import numpy as np\n",
    "\n",
    "def calculations(df):\n",
    "    \n",
    "    df_copy=df.copy()\n",
    "    \n",
    "    # classification task\n",
    "    # replace nan with zeroes\n",
    "    df_copy.fillna(0, inplace=True)\n",
    "    # create additional columns O and D\n",
    "    df_copy[['O', 'D']] = df_copy['OD'].str.split('-', n=1, expand=True)\n",
    "\n",
    "    # classification conditions\n",
    "    conditions = [\n",
    "    (df_copy['item_sum_x'] == 0) & (df_copy['item_sum_y'] > 0),\n",
    "    (df_copy['item_sum_x'] >0 ) & (df_copy['item_sum_y'] == 0),\n",
    "    (df_copy['item_sum_x'] >0 ) & (df_copy['item_sum_y'] > 0)\n",
    "    ]\n",
    "    \n",
    "    # create a list of the values to assign for each condition:\n",
    "    # acquired = a, lost = l, no_change= n\n",
    "    values = ['a', 'l', 'n']\n",
    "    # applying conditions\n",
    "    df_copy['outcome'] = np.select(conditions, values)\n",
    "\n",
    "    # code to save any intermediate df. For example, \n",
    "    # df_copy.to_csv(file_label+\"outcome\"+\".csv\")\n",
    "\n",
    "    # excuding unnedded columns\n",
    "    df_copy=df_copy[['item_sum_x', 'item_sum_y', 'OD', 'O', 'D', 'outcome']]\n",
    "\n",
    "    # for each origin (aport) calculate # destinations a, l , n.\n",
    "    df_copy=df_copy.groupby(\n",
    "    ['O','outcome'], as_index=False).agg(\n",
    "    count=('O', 'count'),\n",
    "    # record destinations as a list\n",
    "    list_D=('D', lambda x: list(x)),\n",
    "    # calc sums of passengers\n",
    "    item_tot_x=('item_sum_x', 'sum'),\n",
    "    item_tot_y=('item_sum_y', 'sum')\n",
    "    )\n",
    "    \n",
    "    # SAVING FILE\n",
    "    # df_copy.to_csv(file_label+ \"_interm_df\" + \".csv\")\n",
    "    \n",
    "    # change columns format (dtype) for downstream operations\n",
    "    df_copy['srt_count']=df_copy['count'].astype(str)\n",
    "    \n",
    "    df_copy['list_D']=df_copy['list_D'].astype(str)\n",
    "    df_copy['O']=df_copy['O'].astype(str)\n",
    "\n",
    "    # creating columns for records of # of a, l, n and lists of aports\n",
    "    df_copy['status'] = df_copy[['outcome', 'srt_count']].agg('='.join, axis=1)\n",
    "    df_copy['list_D_upd'] = df_copy[['outcome', 'list_D']].agg('='.join, axis=1)\n",
    "    df_copy['notes'] = df_copy[['status', 'list_D_upd']].agg(' ; '.join, axis=1)\n",
    "    \n",
    "    # group by by origin\n",
    "    df_copy=df_copy.groupby('O').agg(item_abstot_x=('item_tot_x', 'sum'),\n",
    "                                  item_abstot_y=('item_tot_y', 'sum'),\n",
    "                                  summary_outcome=('status', lambda x: list(x)),\n",
    "                                list_apts=('list_D_upd', lambda x: list(x)),\n",
    "                                  ).reset_index()\n",
    "    \n",
    "    df_copy['summary_outcome']=df_copy['summary_outcome'].astype(str)\n",
    "    df_copy['list_apts']=df_copy['list_apts'].astype(str)\n",
    "\n",
    "    # calculate absolute change in pass numbers\n",
    "    df_copy['item_y_x']=df_copy['item_abstot_y']-df_copy['item_abstot_x']\n",
    "    \n",
    "    # calc % change\n",
    "    df_copy['%_change'] = np.where(df_copy['item_abstot_x'] == 0, 100, round(100*df_copy['item_y_x']/df_copy['item_abstot_x'], 2))\n",
    "    \n",
    "    # delta in pax for years x and y\n",
    "    df_copy['item_y_x']=df_copy['item_abstot_y']-df_copy['item_abstot_x']\n",
    "\n",
    "    result=df_copy\n",
    "\n",
    "    return result\n",
    "\n",
    "calculated_df=calculations(merged_yx_yy)\n",
    "# merged_yx_yy_cl merged file for two years x and y \n",
    "\n",
    "# SAVING FILE\n",
    "# calculated_df.to_csv(file_label + \"calcul_df\" + \".csv\")\n",
    "\n",
    "calculated_df.head(5)"
   ]
  },
  {
   "cell_type": "code",
   "execution_count": 110,
   "metadata": {},
   "outputs": [],
   "source": [
    "# file_name=file_label+ \"_interm_df\" + \".csv\"\n",
    "# intermediate_df=pd.read_csv(file_name, index_col=0)"
   ]
  },
  {
   "cell_type": "code",
   "execution_count": 111,
   "metadata": {},
   "outputs": [
    {
     "data": {
      "text/html": [
       "<div>\n",
       "<style scoped>\n",
       "    .dataframe tbody tr th:only-of-type {\n",
       "        vertical-align: middle;\n",
       "    }\n",
       "\n",
       "    .dataframe tbody tr th {\n",
       "        vertical-align: top;\n",
       "    }\n",
       "\n",
       "    .dataframe thead th {\n",
       "        text-align: right;\n",
       "    }\n",
       "</style>\n",
       "<table border=\"1\" class=\"dataframe\">\n",
       "  <thead>\n",
       "    <tr style=\"text-align: right;\">\n",
       "      <th></th>\n",
       "      <th>O</th>\n",
       "      <th>item</th>\n",
       "      <th>summary_outcome</th>\n",
       "      <th>year</th>\n",
       "      <th>list_apts</th>\n",
       "      <th>%_change_str</th>\n",
       "    </tr>\n",
       "  </thead>\n",
       "  <tbody>\n",
       "    <tr>\n",
       "      <th>0</th>\n",
       "      <td>AE</td>\n",
       "      <td>8784127.0</td>\n",
       "      <td>['n=1']</td>\n",
       "      <td>2014</td>\n",
       "      <td>NaN</td>\n",
       "      <td>NaN</td>\n",
       "    </tr>\n",
       "    <tr>\n",
       "      <th>1</th>\n",
       "      <td>AG</td>\n",
       "      <td>213514.0</td>\n",
       "      <td>['n=1']</td>\n",
       "      <td>2014</td>\n",
       "      <td>NaN</td>\n",
       "      <td>NaN</td>\n",
       "    </tr>\n",
       "    <tr>\n",
       "      <th>2</th>\n",
       "      <td>AI</td>\n",
       "      <td>0.0</td>\n",
       "      <td>['0=1']</td>\n",
       "      <td>2014</td>\n",
       "      <td>NaN</td>\n",
       "      <td>NaN</td>\n",
       "    </tr>\n",
       "    <tr>\n",
       "      <th>3</th>\n",
       "      <td>AO</td>\n",
       "      <td>476920.0</td>\n",
       "      <td>['l=1']</td>\n",
       "      <td>2014</td>\n",
       "      <td>NaN</td>\n",
       "      <td>NaN</td>\n",
       "    </tr>\n",
       "    <tr>\n",
       "      <th>4</th>\n",
       "      <td>AR</td>\n",
       "      <td>4930304.0</td>\n",
       "      <td>['n=1']</td>\n",
       "      <td>2014</td>\n",
       "      <td>NaN</td>\n",
       "      <td>NaN</td>\n",
       "    </tr>\n",
       "  </tbody>\n",
       "</table>\n",
       "</div>"
      ],
      "text/plain": [
       "    O       item summary_outcome  year list_apts %_change_str\n",
       "0  AE  8784127.0         ['n=1']  2014       NaN          NaN\n",
       "1  AG   213514.0         ['n=1']  2014       NaN          NaN\n",
       "2  AI        0.0         ['0=1']  2014       NaN          NaN\n",
       "3  AO   476920.0         ['l=1']  2014       NaN          NaN\n",
       "4  AR  4930304.0         ['n=1']  2014       NaN          NaN"
      ]
     },
     "execution_count": 111,
     "metadata": {},
     "output_type": "execute_result"
    }
   ],
   "source": [
    "\n",
    "def for_plot (df):\n",
    "\n",
    "    df_copy=df.copy()\n",
    "    # recording sign on % change\n",
    "    df_copy['sign'] = (np.where(df_copy['%_change'] < 0, \"- \", \"+ \")).astype(str)\n",
    "\n",
    "    # recording only numbers in % change\n",
    "    df_copy['%_change_str'] = (abs(df_copy['%_change'])).astype(str)\n",
    "\n",
    "   # new column for data labels (% change as str)\n",
    "    df_copy['%_change_str']=df_copy['sign'] + df_copy['%_change_str'] + \"%\"\n",
    "\n",
    "    if type2 == \"pax\":\n",
    "        # filtering df to have only rows with item >100 000\n",
    "        result =df_copy[(df_copy['item_abstot_x']>100000) |(df_copy['item_abstot_y']>100000) ]\n",
    "\n",
    "    # splitting df_copy into 2 df for year x and year y\n",
    "    # for year x, skipping % change and list_apts\n",
    "    df_copy_x=df_copy[['O', 'item_abstot_x', 'summary_outcome']].copy()\n",
    "    # adding year columns\n",
    "    df_copy_x['year']=x\n",
    "    # changing column name to cargo\n",
    "    df_copy_x.rename(columns={\"item_abstot_x\": \"item\"}, inplace=True)\n",
    "\n",
    "    # for year y, skipping summary_outcome and NOT skipping % change and list_apts\n",
    "    df_copy_y=df_copy[['O', 'item_abstot_y', 'list_apts', '%_change_str']].copy()\n",
    "    # adding year columns\n",
    "    df_copy_y['year']=y\n",
    "    # changing column name to cargo\n",
    "    df_copy_y.rename(columns={\"item_abstot_y\": \"item\"}, inplace=True)\n",
    "    \n",
    "    # concantenate\n",
    "    result = pd.concat([df_copy_x, df_copy_y], axis=0)\n",
    "\n",
    "\n",
    "    return result\n",
    "\n",
    "df_4plot=for_plot(calculated_df)\n",
    "\n",
    "# SAVING FILE\n",
    "# df_4plot.to_csv(file_label + \"plotting\" + \".csv\")\n",
    "\n",
    "df_4plot.head(5)"
   ]
  },
  {
   "cell_type": "code",
   "execution_count": 112,
   "metadata": {},
   "outputs": [
    {
     "data": {
      "application/vnd.plotly.v1+json": {
       "config": {
        "plotlyServerURL": "https://plot.ly"
       },
       "data": [
        {
         "customdata": [
          [
           "['n=1']",
           null
          ],
          [
           "['n=1']",
           null
          ],
          [
           "['0=1']",
           null
          ],
          [
           "['l=1']",
           null
          ],
          [
           "['n=1']",
           null
          ],
          [
           "['n=1']",
           null
          ],
          [
           "['n=1']",
           null
          ],
          [
           "['n=1']",
           null
          ],
          [
           "['a=1']",
           null
          ],
          [
           "['n=1']",
           null
          ],
          [
           "['n=1']",
           null
          ],
          [
           "['0=1']",
           null
          ],
          [
           "['n=1']",
           null
          ],
          [
           "['n=1']",
           null
          ],
          [
           "['0=1']",
           null
          ],
          [
           "['n=1']",
           null
          ],
          [
           "['n=1']",
           null
          ],
          [
           "['n=1']",
           null
          ],
          [
           "['n=1']",
           null
          ],
          [
           "['l=1']",
           null
          ],
          [
           "['n=1']",
           null
          ],
          [
           "['0=1']",
           null
          ],
          [
           "['n=1']",
           null
          ],
          [
           "['n=1']",
           null
          ],
          [
           "['n=1']",
           null
          ],
          [
           "['n=1']",
           null
          ],
          [
           "['a=1']",
           null
          ],
          [
           "['0=1']",
           null
          ],
          [
           "['n=1']",
           null
          ],
          [
           "['n=1']",
           null
          ],
          [
           "['n=1']",
           null
          ],
          [
           "['n=1']",
           null
          ],
          [
           "['n=1']",
           null
          ],
          [
           "['n=1']",
           null
          ],
          [
           "['n=1']",
           null
          ],
          [
           "['n=1']",
           null
          ],
          [
           "['n=1']",
           null
          ],
          [
           "['n=1']",
           null
          ],
          [
           "['n=1']",
           null
          ],
          [
           "['n=1']",
           null
          ],
          [
           "['n=1']",
           null
          ],
          [
           "['n=1']",
           null
          ],
          [
           "['n=1']",
           null
          ],
          [
           "['n=1']",
           null
          ],
          [
           "['n=1']",
           null
          ],
          [
           "['0=1']",
           null
          ],
          [
           "['n=1']",
           null
          ],
          [
           "['n=1']",
           null
          ],
          [
           "['n=1']",
           null
          ],
          [
           "['n=1']",
           null
          ],
          [
           "['n=1']",
           null
          ],
          [
           "['n=1']",
           null
          ],
          [
           "['0=1']",
           null
          ],
          [
           "['n=1']",
           null
          ],
          [
           "['n=1']",
           null
          ],
          [
           "['n=1']",
           null
          ],
          [
           "['n=1']",
           null
          ],
          [
           "['n=1']",
           null
          ],
          [
           "['n=1']",
           null
          ],
          [
           "['n=1']",
           null
          ],
          [
           "['n=1']",
           null
          ],
          [
           "['n=1']",
           null
          ],
          [
           "['n=1']",
           null
          ],
          [
           "['a=1']",
           null
          ],
          [
           "['0=1']",
           null
          ],
          [
           "['n=1']",
           null
          ],
          [
           "['n=1']",
           null
          ],
          [
           "['n=1']",
           null
          ],
          [
           "['n=1']",
           null
          ],
          [
           "['n=1']",
           null
          ],
          [
           "['n=1']",
           null
          ],
          [
           "['a=1']",
           null
          ],
          [
           "['n=1']",
           null
          ],
          [
           "['0=1']",
           null
          ],
          [
           "['n=1']",
           null
          ],
          [
           "['n=1']",
           null
          ],
          [
           "['n=1']",
           null
          ],
          [
           "['n=1']",
           null
          ],
          [
           "['n=1']",
           null
          ],
          [
           "['n=1']",
           null
          ],
          [
           "['n=1']",
           null
          ],
          [
           "['n=1']",
           null
          ],
          [
           "['n=1']",
           null
          ],
          [
           "['n=1']",
           null
          ],
          [
           "['n=1']",
           null
          ],
          [
           "['n=1']",
           null
          ],
          [
           "['0=1']",
           null
          ],
          [
           "['n=1']",
           null
          ],
          [
           "['l=1']",
           null
          ],
          [
           "['n=1']",
           null
          ],
          [
           "['n=1']",
           null
          ],
          [
           "['n=1']",
           null
          ],
          [
           "['l=1']",
           null
          ],
          [
           "['n=1']",
           null
          ],
          [
           "['0=1']",
           null
          ],
          [
           "['a=1']",
           null
          ],
          [
           "['n=1']",
           null
          ],
          [
           "['n=1']",
           null
          ],
          [
           "['n=1']",
           null
          ],
          [
           "['a=1']",
           null
          ],
          [
           "['n=1']",
           null
          ],
          [
           "['n=1']",
           null
          ],
          [
           "['n=1']",
           null
          ],
          [
           "['n=1']",
           null
          ],
          [
           "['n=1']",
           null
          ],
          [
           "['a=1']",
           null
          ],
          [
           "['n=1']",
           null
          ],
          [
           "['n=1']",
           null
          ],
          [
           "['n=1']",
           null
          ],
          [
           "['a=1']",
           null
          ],
          [
           "['0=7', 'a=13', 'l=8', 'n=92']",
           null
          ],
          [
           "['n=1']",
           null
          ],
          [
           "['a=1']",
           null
          ],
          [
           "['a=1']",
           null
          ],
          [
           "['l=1']",
           null
          ],
          [
           "['n=1']",
           null
          ],
          [
           "['a=1']",
           null
          ],
          [
           "['n=1']",
           null
          ],
          [
           "['n=1']",
           null
          ]
         ],
         "hovertemplate": "year=2014<br>O=%{x}<br>item=%{y}<br>summary_outcome=%{customdata[0]}<br>%_change_str=%{customdata[1]}<extra></extra>",
         "legendgroup": "2014",
         "marker": {
          "color": "blue",
          "opacity": 0.7,
          "symbol": "circle"
         },
         "mode": "markers",
         "name": "2014",
         "orientation": "v",
         "showlegend": true,
         "type": "scatter",
         "x": [
          "AE",
          "AG",
          "AI",
          "AO",
          "AR",
          "AT",
          "AU",
          "AW",
          "AZ",
          "BB",
          "BE",
          "BL",
          "BM",
          "BO",
          "BQ",
          "BR",
          "BS",
          "BZ",
          "CA",
          "CG",
          "CH",
          "CK",
          "CL",
          "CN",
          "CO",
          "CR",
          "CU",
          "CV",
          "CW",
          "CZ",
          "DE",
          "DK",
          "DM",
          "DO",
          "EC",
          "EG",
          "ES",
          "ET",
          "FI",
          "FJ",
          "FM",
          "FR",
          "GB",
          "GD",
          "GH",
          "GL",
          "GP",
          "GR",
          "GT",
          "GY",
          "HK",
          "HN",
          "HR",
          "HT",
          "HU",
          "IE",
          "IL",
          "IN",
          "IS",
          "IT",
          "JM",
          "JO",
          "JP",
          "KE",
          "KH",
          "KI",
          "KN",
          "KR",
          "KW",
          "KY",
          "LC",
          "LK",
          "LU",
          "LV",
          "MA",
          "MH",
          "MQ",
          "MX",
          "NG",
          "NI",
          "NL",
          "NO",
          "NZ",
          "PA",
          "PE",
          "PF",
          "PG",
          "PH",
          "PK",
          "PL",
          "PT",
          "PW",
          "PY",
          "QA",
          "RO",
          "RS",
          "RU",
          "SA",
          "SE",
          "SG",
          "SN",
          "SR",
          "SV",
          "SX",
          "TC",
          "TO",
          "TR",
          "TT",
          "TW",
          "UA",
          "US",
          "UY",
          "UZ",
          "VC",
          "VE",
          "VG",
          "VN",
          "WS",
          "ZA"
         ],
         "xaxis": "x",
         "y": [
          8784127,
          213514,
          0,
          476920,
          4930304,
          2112574,
          5065245,
          5952,
          0,
          98342,
          10458225,
          0,
          177625,
          24196,
          0,
          13594501,
          23249,
          31704,
          24735095,
          10595,
          9061761,
          0,
          8936107,
          94577729,
          58394483,
          6314318,
          0,
          0,
          39171,
          417357,
          79978442,
          3859014,
          25957,
          9813392,
          20915511,
          747419,
          6325710,
          440482,
          838836,
          577117,
          160779,
          34258159,
          69416629,
          69880,
          474920,
          0,
          21675,
          172215,
          3862363,
          42167,
          90467075,
          3587064,
          0,
          556518,
          53473,
          3479111,
          4458289,
          1433522,
          1616775,
          15416894,
          528954,
          506449,
          96679198,
          0,
          0,
          6781,
          58350,
          72562290,
          283616,
          24419,
          25053,
          0,
          15869766,
          0,
          89874,
          606201,
          11620,
          27513653,
          34295,
          2130543,
          30355345,
          882091,
          1924202,
          3950017,
          29345503,
          654748,
          0,
          1654916,
          32701,
          1111706,
          861452,
          125994,
          43326,
          9708835,
          0,
          0,
          5857430,
          371029,
          1557447,
          0,
          101611,
          815985,
          850322,
          33198,
          227,
          0,
          4391154,
          1687884,
          65718723,
          0,
          764877602,
          252069,
          0,
          0,
          928066,
          61467,
          0,
          3588,
          470459
         ],
         "yaxis": "y"
        },
        {
         "customdata": [
          [
           null,
           "- 30.62%"
          ],
          [
           null,
           "- 95.63%"
          ],
          [
           null,
           "+ 100.0%"
          ],
          [
           null,
           "- 100.0%"
          ],
          [
           null,
           "+ 48.47%"
          ],
          [
           null,
           "- 2.32%"
          ],
          [
           null,
           "+ 42.4%"
          ],
          [
           null,
           "+ 136.31%"
          ],
          [
           null,
           "+ 100.0%"
          ],
          [
           null,
           "- 48.51%"
          ],
          [
           null,
           "+ 13.22%"
          ],
          [
           null,
           "+ 100.0%"
          ],
          [
           null,
           "- 12.8%"
          ],
          [
           null,
           "- 50.03%"
          ],
          [
           null,
           "+ 100.0%"
          ],
          [
           null,
           "+ 13.81%"
          ],
          [
           null,
           "+ 45.05%"
          ],
          [
           null,
           "- 27.02%"
          ],
          [
           null,
           "+ 24.02%"
          ],
          [
           null,
           "- 100.0%"
          ],
          [
           null,
           "+ 22.93%"
          ],
          [
           null,
           "+ 100.0%"
          ],
          [
           null,
           "+ 96.89%"
          ],
          [
           null,
           "+ 46.72%"
          ],
          [
           null,
           "- 22.37%"
          ],
          [
           null,
           "+ 48.15%"
          ],
          [
           null,
           "+ 100.0%"
          ],
          [
           null,
           "+ 100.0%"
          ],
          [
           null,
           "- 50.23%"
          ],
          [
           null,
           "+ 130.32%"
          ],
          [
           null,
           "- 5.06%"
          ],
          [
           null,
           "+ 28.48%"
          ],
          [
           null,
           "- 96.17%"
          ],
          [
           null,
           "- 1.53%"
          ],
          [
           null,
           "- 4.19%"
          ],
          [
           null,
           "- 20.36%"
          ],
          [
           null,
           "+ 64.17%"
          ],
          [
           null,
           "+ 115.07%"
          ],
          [
           null,
           "+ 88.58%"
          ],
          [
           null,
           "+ 15.24%"
          ],
          [
           null,
           "- 13.59%"
          ],
          [
           null,
           "+ 9.86%"
          ],
          [
           null,
           "+ 15.07%"
          ],
          [
           null,
           "+ 1062.46%"
          ],
          [
           null,
           "- 44.41%"
          ],
          [
           null,
           "+ 100.0%"
          ],
          [
           null,
           "- 75.45%"
          ],
          [
           null,
           "+ 1150.94%"
          ],
          [
           null,
           "- 24.32%"
          ],
          [
           null,
           "+ 47.09%"
          ],
          [
           null,
           "+ 24.77%"
          ],
          [
           null,
           "+ 68.02%"
          ],
          [
           null,
           "+ 100.0%"
          ],
          [
           null,
           "+ 20.82%"
          ],
          [
           null,
           "+ 989.61%"
          ],
          [
           null,
           "+ 24.43%"
          ],
          [
           null,
           "- 4.02%"
          ],
          [
           null,
           "+ 20.18%"
          ],
          [
           null,
           "+ 34.92%"
          ],
          [
           null,
           "+ 29.82%"
          ],
          [
           null,
           "+ 45.28%"
          ],
          [
           null,
           "+ 76.39%"
          ],
          [
           null,
           "+ 17.16%"
          ],
          [
           null,
           "+ 100.0%"
          ],
          [
           null,
           "+ 100.0%"
          ],
          [
           null,
           "- 82.64%"
          ],
          [
           null,
           "+ 278.27%"
          ],
          [
           null,
           "- 13.5%"
          ],
          [
           null,
           "- 29.69%"
          ],
          [
           null,
           "- 54.62%"
          ],
          [
           null,
           "+ 1.0%"
          ],
          [
           null,
           "+ 100.0%"
          ],
          [
           null,
           "- 11.62%"
          ],
          [
           null,
           "+ 100.0%"
          ],
          [
           null,
           "+ 305.29%"
          ],
          [
           null,
           "- 32.0%"
          ],
          [
           null,
           "+ 576.35%"
          ],
          [
           null,
           "+ 21.67%"
          ],
          [
           null,
           "+ 723.93%"
          ],
          [
           null,
           "+ 49.58%"
          ],
          [
           null,
           "- 3.32%"
          ],
          [
           null,
           "+ 87.65%"
          ],
          [
           null,
           "+ 66.25%"
          ],
          [
           null,
           "- 19.49%"
          ],
          [
           null,
           "- 42.08%"
          ],
          [
           null,
           "- 43.08%"
          ],
          [
           null,
           "+ 100.0%"
          ],
          [
           null,
           "+ 89.2%"
          ],
          [
           null,
           "- 100.0%"
          ],
          [
           null,
           "+ 127.48%"
          ],
          [
           null,
           "+ 177.44%"
          ],
          [
           null,
           "+ 69.22%"
          ],
          [
           null,
           "- 100.0%"
          ],
          [
           null,
           "+ 42.3%"
          ],
          [
           null,
           "+ 100.0%"
          ],
          [
           null,
           "+ 100.0%"
          ],
          [
           null,
           "- 3.45%"
          ],
          [
           null,
           "+ 225.63%"
          ],
          [
           null,
           "+ 43.3%"
          ],
          [
           null,
           "+ 100.0%"
          ],
          [
           null,
           "- 60.65%"
          ],
          [
           null,
           "+ 2.15%"
          ],
          [
           null,
           "+ 0.57%"
          ],
          [
           null,
           "+ 183.02%"
          ],
          [
           null,
           "+ 128.19%"
          ],
          [
           null,
           "+ 100.0%"
          ],
          [
           null,
           "+ 213.15%"
          ],
          [
           null,
           "- 35.8%"
          ],
          [
           null,
           "- 14.53%"
          ],
          [
           null,
           "+ 100.0%"
          ],
          [
           null,
           "- 4.13%"
          ],
          [
           null,
           "- 46.35%"
          ],
          [
           null,
           "+ 100.0%"
          ],
          [
           null,
           "+ 100.0%"
          ],
          [
           null,
           "- 100.0%"
          ],
          [
           null,
           "- 87.98%"
          ],
          [
           null,
           "+ 100.0%"
          ],
          [
           null,
           "+ 86.71%"
          ],
          [
           null,
           "+ 4.46%"
          ]
         ],
         "hovertemplate": "year=2019<br>O=%{x}<br>item=%{y}<br>summary_outcome=%{customdata[0]}<br>%_change_str=%{customdata[1]}<extra></extra>",
         "legendgroup": "2019",
         "marker": {
          "color": "red",
          "opacity": 0.7,
          "symbol": "circle"
         },
         "mode": "markers",
         "name": "2019",
         "orientation": "v",
         "showlegend": true,
         "type": "scatter",
         "x": [
          "AE",
          "AG",
          "AI",
          "AO",
          "AR",
          "AT",
          "AU",
          "AW",
          "AZ",
          "BB",
          "BE",
          "BL",
          "BM",
          "BO",
          "BQ",
          "BR",
          "BS",
          "BZ",
          "CA",
          "CG",
          "CH",
          "CK",
          "CL",
          "CN",
          "CO",
          "CR",
          "CU",
          "CV",
          "CW",
          "CZ",
          "DE",
          "DK",
          "DM",
          "DO",
          "EC",
          "EG",
          "ES",
          "ET",
          "FI",
          "FJ",
          "FM",
          "FR",
          "GB",
          "GD",
          "GH",
          "GL",
          "GP",
          "GR",
          "GT",
          "GY",
          "HK",
          "HN",
          "HR",
          "HT",
          "HU",
          "IE",
          "IL",
          "IN",
          "IS",
          "IT",
          "JM",
          "JO",
          "JP",
          "KE",
          "KH",
          "KI",
          "KN",
          "KR",
          "KW",
          "KY",
          "LC",
          "LK",
          "LU",
          "LV",
          "MA",
          "MH",
          "MQ",
          "MX",
          "NG",
          "NI",
          "NL",
          "NO",
          "NZ",
          "PA",
          "PE",
          "PF",
          "PG",
          "PH",
          "PK",
          "PL",
          "PT",
          "PW",
          "PY",
          "QA",
          "RO",
          "RS",
          "RU",
          "SA",
          "SE",
          "SG",
          "SN",
          "SR",
          "SV",
          "SX",
          "TC",
          "TO",
          "TR",
          "TT",
          "TW",
          "UA",
          "US",
          "UY",
          "UZ",
          "VC",
          "VE",
          "VG",
          "VN",
          "WS",
          "ZA"
         ],
         "xaxis": "x",
         "y": [
          6094328,
          9335,
          0,
          0,
          7319950,
          2063474,
          7212931,
          14065,
          1291244,
          50638,
          11840899,
          0,
          154897,
          12091,
          0,
          15471856,
          33723,
          23137,
          30676696,
          0,
          11139622,
          0,
          17594654,
          138760490,
          45329699,
          9354745,
          46321,
          0,
          19495,
          961262,
          75931803,
          4958205,
          993,
          9663267,
          20039653,
          595230,
          10384719,
          947337,
          1581903,
          665078,
          138929,
          37636572,
          79874595,
          812325,
          263989,
          0,
          5321,
          2154298,
          2923194,
          62024,
          112875200,
          6027149,
          0,
          672358,
          582648,
          4328934,
          4279277,
          1722870,
          2181323,
          20014748,
          768461,
          893308,
          113264776,
          665152,
          0,
          1177,
          220723,
          62768768,
          199415,
          11081,
          25304,
          196599,
          14025429,
          0,
          364251,
          412242,
          78592,
          33476315,
          282568,
          3186777,
          29347460,
          1655209,
          3198934,
          3180276,
          16998189,
          372667,
          0,
          3131154,
          0,
          2528902,
          2390026,
          213202,
          0,
          13815912,
          0,
          338012,
          5655639,
          1208175,
          2231822,
          1901543,
          39985,
          833504,
          855157,
          93956,
          518,
          141,
          13750995,
          1083701,
          56166962,
          328942,
          733278219,
          135240,
          21996,
          124083,
          0,
          7389,
          367535,
          6699,
          491423
         ],
         "yaxis": "y"
        }
       ],
       "layout": {
        "font": {
         "color": "RebeccaPurple",
         "family": "Courier New, monospace",
         "size": 16
        },
        "legend": {
         "title": {
          "text": "Years"
         },
         "tracegroupgap": 0
        },
        "margin": {
         "t": 60
        },
        "template": {
         "data": {
          "bar": [
           {
            "error_x": {
             "color": "#2a3f5f"
            },
            "error_y": {
             "color": "#2a3f5f"
            },
            "marker": {
             "line": {
              "color": "#E5ECF6",
              "width": 0.5
             },
             "pattern": {
              "fillmode": "overlay",
              "size": 10,
              "solidity": 0.2
             }
            },
            "type": "bar"
           }
          ],
          "barpolar": [
           {
            "marker": {
             "line": {
              "color": "#E5ECF6",
              "width": 0.5
             },
             "pattern": {
              "fillmode": "overlay",
              "size": 10,
              "solidity": 0.2
             }
            },
            "type": "barpolar"
           }
          ],
          "carpet": [
           {
            "aaxis": {
             "endlinecolor": "#2a3f5f",
             "gridcolor": "white",
             "linecolor": "white",
             "minorgridcolor": "white",
             "startlinecolor": "#2a3f5f"
            },
            "baxis": {
             "endlinecolor": "#2a3f5f",
             "gridcolor": "white",
             "linecolor": "white",
             "minorgridcolor": "white",
             "startlinecolor": "#2a3f5f"
            },
            "type": "carpet"
           }
          ],
          "choropleth": [
           {
            "colorbar": {
             "outlinewidth": 0,
             "ticks": ""
            },
            "type": "choropleth"
           }
          ],
          "contour": [
           {
            "colorbar": {
             "outlinewidth": 0,
             "ticks": ""
            },
            "colorscale": [
             [
              0,
              "#0d0887"
             ],
             [
              0.1111111111111111,
              "#46039f"
             ],
             [
              0.2222222222222222,
              "#7201a8"
             ],
             [
              0.3333333333333333,
              "#9c179e"
             ],
             [
              0.4444444444444444,
              "#bd3786"
             ],
             [
              0.5555555555555556,
              "#d8576b"
             ],
             [
              0.6666666666666666,
              "#ed7953"
             ],
             [
              0.7777777777777778,
              "#fb9f3a"
             ],
             [
              0.8888888888888888,
              "#fdca26"
             ],
             [
              1,
              "#f0f921"
             ]
            ],
            "type": "contour"
           }
          ],
          "contourcarpet": [
           {
            "colorbar": {
             "outlinewidth": 0,
             "ticks": ""
            },
            "type": "contourcarpet"
           }
          ],
          "heatmap": [
           {
            "colorbar": {
             "outlinewidth": 0,
             "ticks": ""
            },
            "colorscale": [
             [
              0,
              "#0d0887"
             ],
             [
              0.1111111111111111,
              "#46039f"
             ],
             [
              0.2222222222222222,
              "#7201a8"
             ],
             [
              0.3333333333333333,
              "#9c179e"
             ],
             [
              0.4444444444444444,
              "#bd3786"
             ],
             [
              0.5555555555555556,
              "#d8576b"
             ],
             [
              0.6666666666666666,
              "#ed7953"
             ],
             [
              0.7777777777777778,
              "#fb9f3a"
             ],
             [
              0.8888888888888888,
              "#fdca26"
             ],
             [
              1,
              "#f0f921"
             ]
            ],
            "type": "heatmap"
           }
          ],
          "heatmapgl": [
           {
            "colorbar": {
             "outlinewidth": 0,
             "ticks": ""
            },
            "colorscale": [
             [
              0,
              "#0d0887"
             ],
             [
              0.1111111111111111,
              "#46039f"
             ],
             [
              0.2222222222222222,
              "#7201a8"
             ],
             [
              0.3333333333333333,
              "#9c179e"
             ],
             [
              0.4444444444444444,
              "#bd3786"
             ],
             [
              0.5555555555555556,
              "#d8576b"
             ],
             [
              0.6666666666666666,
              "#ed7953"
             ],
             [
              0.7777777777777778,
              "#fb9f3a"
             ],
             [
              0.8888888888888888,
              "#fdca26"
             ],
             [
              1,
              "#f0f921"
             ]
            ],
            "type": "heatmapgl"
           }
          ],
          "histogram": [
           {
            "marker": {
             "pattern": {
              "fillmode": "overlay",
              "size": 10,
              "solidity": 0.2
             }
            },
            "type": "histogram"
           }
          ],
          "histogram2d": [
           {
            "colorbar": {
             "outlinewidth": 0,
             "ticks": ""
            },
            "colorscale": [
             [
              0,
              "#0d0887"
             ],
             [
              0.1111111111111111,
              "#46039f"
             ],
             [
              0.2222222222222222,
              "#7201a8"
             ],
             [
              0.3333333333333333,
              "#9c179e"
             ],
             [
              0.4444444444444444,
              "#bd3786"
             ],
             [
              0.5555555555555556,
              "#d8576b"
             ],
             [
              0.6666666666666666,
              "#ed7953"
             ],
             [
              0.7777777777777778,
              "#fb9f3a"
             ],
             [
              0.8888888888888888,
              "#fdca26"
             ],
             [
              1,
              "#f0f921"
             ]
            ],
            "type": "histogram2d"
           }
          ],
          "histogram2dcontour": [
           {
            "colorbar": {
             "outlinewidth": 0,
             "ticks": ""
            },
            "colorscale": [
             [
              0,
              "#0d0887"
             ],
             [
              0.1111111111111111,
              "#46039f"
             ],
             [
              0.2222222222222222,
              "#7201a8"
             ],
             [
              0.3333333333333333,
              "#9c179e"
             ],
             [
              0.4444444444444444,
              "#bd3786"
             ],
             [
              0.5555555555555556,
              "#d8576b"
             ],
             [
              0.6666666666666666,
              "#ed7953"
             ],
             [
              0.7777777777777778,
              "#fb9f3a"
             ],
             [
              0.8888888888888888,
              "#fdca26"
             ],
             [
              1,
              "#f0f921"
             ]
            ],
            "type": "histogram2dcontour"
           }
          ],
          "mesh3d": [
           {
            "colorbar": {
             "outlinewidth": 0,
             "ticks": ""
            },
            "type": "mesh3d"
           }
          ],
          "parcoords": [
           {
            "line": {
             "colorbar": {
              "outlinewidth": 0,
              "ticks": ""
             }
            },
            "type": "parcoords"
           }
          ],
          "pie": [
           {
            "automargin": true,
            "type": "pie"
           }
          ],
          "scatter": [
           {
            "fillpattern": {
             "fillmode": "overlay",
             "size": 10,
             "solidity": 0.2
            },
            "type": "scatter"
           }
          ],
          "scatter3d": [
           {
            "line": {
             "colorbar": {
              "outlinewidth": 0,
              "ticks": ""
             }
            },
            "marker": {
             "colorbar": {
              "outlinewidth": 0,
              "ticks": ""
             }
            },
            "type": "scatter3d"
           }
          ],
          "scattercarpet": [
           {
            "marker": {
             "colorbar": {
              "outlinewidth": 0,
              "ticks": ""
             }
            },
            "type": "scattercarpet"
           }
          ],
          "scattergeo": [
           {
            "marker": {
             "colorbar": {
              "outlinewidth": 0,
              "ticks": ""
             }
            },
            "type": "scattergeo"
           }
          ],
          "scattergl": [
           {
            "marker": {
             "colorbar": {
              "outlinewidth": 0,
              "ticks": ""
             }
            },
            "type": "scattergl"
           }
          ],
          "scattermapbox": [
           {
            "marker": {
             "colorbar": {
              "outlinewidth": 0,
              "ticks": ""
             }
            },
            "type": "scattermapbox"
           }
          ],
          "scatterpolar": [
           {
            "marker": {
             "colorbar": {
              "outlinewidth": 0,
              "ticks": ""
             }
            },
            "type": "scatterpolar"
           }
          ],
          "scatterpolargl": [
           {
            "marker": {
             "colorbar": {
              "outlinewidth": 0,
              "ticks": ""
             }
            },
            "type": "scatterpolargl"
           }
          ],
          "scatterternary": [
           {
            "marker": {
             "colorbar": {
              "outlinewidth": 0,
              "ticks": ""
             }
            },
            "type": "scatterternary"
           }
          ],
          "surface": [
           {
            "colorbar": {
             "outlinewidth": 0,
             "ticks": ""
            },
            "colorscale": [
             [
              0,
              "#0d0887"
             ],
             [
              0.1111111111111111,
              "#46039f"
             ],
             [
              0.2222222222222222,
              "#7201a8"
             ],
             [
              0.3333333333333333,
              "#9c179e"
             ],
             [
              0.4444444444444444,
              "#bd3786"
             ],
             [
              0.5555555555555556,
              "#d8576b"
             ],
             [
              0.6666666666666666,
              "#ed7953"
             ],
             [
              0.7777777777777778,
              "#fb9f3a"
             ],
             [
              0.8888888888888888,
              "#fdca26"
             ],
             [
              1,
              "#f0f921"
             ]
            ],
            "type": "surface"
           }
          ],
          "table": [
           {
            "cells": {
             "fill": {
              "color": "#EBF0F8"
             },
             "line": {
              "color": "white"
             }
            },
            "header": {
             "fill": {
              "color": "#C8D4E3"
             },
             "line": {
              "color": "white"
             }
            },
            "type": "table"
           }
          ]
         },
         "layout": {
          "annotationdefaults": {
           "arrowcolor": "#2a3f5f",
           "arrowhead": 0,
           "arrowwidth": 1
          },
          "autotypenumbers": "strict",
          "coloraxis": {
           "colorbar": {
            "outlinewidth": 0,
            "ticks": ""
           }
          },
          "colorscale": {
           "diverging": [
            [
             0,
             "#8e0152"
            ],
            [
             0.1,
             "#c51b7d"
            ],
            [
             0.2,
             "#de77ae"
            ],
            [
             0.3,
             "#f1b6da"
            ],
            [
             0.4,
             "#fde0ef"
            ],
            [
             0.5,
             "#f7f7f7"
            ],
            [
             0.6,
             "#e6f5d0"
            ],
            [
             0.7,
             "#b8e186"
            ],
            [
             0.8,
             "#7fbc41"
            ],
            [
             0.9,
             "#4d9221"
            ],
            [
             1,
             "#276419"
            ]
           ],
           "sequential": [
            [
             0,
             "#0d0887"
            ],
            [
             0.1111111111111111,
             "#46039f"
            ],
            [
             0.2222222222222222,
             "#7201a8"
            ],
            [
             0.3333333333333333,
             "#9c179e"
            ],
            [
             0.4444444444444444,
             "#bd3786"
            ],
            [
             0.5555555555555556,
             "#d8576b"
            ],
            [
             0.6666666666666666,
             "#ed7953"
            ],
            [
             0.7777777777777778,
             "#fb9f3a"
            ],
            [
             0.8888888888888888,
             "#fdca26"
            ],
            [
             1,
             "#f0f921"
            ]
           ],
           "sequentialminus": [
            [
             0,
             "#0d0887"
            ],
            [
             0.1111111111111111,
             "#46039f"
            ],
            [
             0.2222222222222222,
             "#7201a8"
            ],
            [
             0.3333333333333333,
             "#9c179e"
            ],
            [
             0.4444444444444444,
             "#bd3786"
            ],
            [
             0.5555555555555556,
             "#d8576b"
            ],
            [
             0.6666666666666666,
             "#ed7953"
            ],
            [
             0.7777777777777778,
             "#fb9f3a"
            ],
            [
             0.8888888888888888,
             "#fdca26"
            ],
            [
             1,
             "#f0f921"
            ]
           ]
          },
          "colorway": [
           "#636efa",
           "#EF553B",
           "#00cc96",
           "#ab63fa",
           "#FFA15A",
           "#19d3f3",
           "#FF6692",
           "#B6E880",
           "#FF97FF",
           "#FECB52"
          ],
          "font": {
           "color": "#2a3f5f"
          },
          "geo": {
           "bgcolor": "white",
           "lakecolor": "white",
           "landcolor": "#E5ECF6",
           "showlakes": true,
           "showland": true,
           "subunitcolor": "white"
          },
          "hoverlabel": {
           "align": "left"
          },
          "hovermode": "closest",
          "mapbox": {
           "style": "light"
          },
          "paper_bgcolor": "white",
          "plot_bgcolor": "#E5ECF6",
          "polar": {
           "angularaxis": {
            "gridcolor": "white",
            "linecolor": "white",
            "ticks": ""
           },
           "bgcolor": "#E5ECF6",
           "radialaxis": {
            "gridcolor": "white",
            "linecolor": "white",
            "ticks": ""
           }
          },
          "scene": {
           "xaxis": {
            "backgroundcolor": "#E5ECF6",
            "gridcolor": "white",
            "gridwidth": 2,
            "linecolor": "white",
            "showbackground": true,
            "ticks": "",
            "zerolinecolor": "white"
           },
           "yaxis": {
            "backgroundcolor": "#E5ECF6",
            "gridcolor": "white",
            "gridwidth": 2,
            "linecolor": "white",
            "showbackground": true,
            "ticks": "",
            "zerolinecolor": "white"
           },
           "zaxis": {
            "backgroundcolor": "#E5ECF6",
            "gridcolor": "white",
            "gridwidth": 2,
            "linecolor": "white",
            "showbackground": true,
            "ticks": "",
            "zerolinecolor": "white"
           }
          },
          "shapedefaults": {
           "line": {
            "color": "#2a3f5f"
           }
          },
          "ternary": {
           "aaxis": {
            "gridcolor": "white",
            "linecolor": "white",
            "ticks": ""
           },
           "baxis": {
            "gridcolor": "white",
            "linecolor": "white",
            "ticks": ""
           },
           "bgcolor": "#E5ECF6",
           "caxis": {
            "gridcolor": "white",
            "linecolor": "white",
            "ticks": ""
           }
          },
          "title": {
           "x": 0.05
          },
          "xaxis": {
           "automargin": true,
           "gridcolor": "white",
           "linecolor": "white",
           "ticks": "",
           "title": {
            "standoff": 15
           },
           "zerolinecolor": "white",
           "zerolinewidth": 2
          },
          "yaxis": {
           "automargin": true,
           "gridcolor": "white",
           "linecolor": "white",
           "ticks": "",
           "title": {
            "standoff": 15
           },
           "zerolinecolor": "white",
           "zerolinewidth": 2
          }
         }
        },
        "title": {
         "text": "intl_by_countr_cargo_yy2014_2019",
         "x": 0.5,
         "xanchor": "center",
         "y": 0.95,
         "yanchor": "top"
        },
        "xaxis": {
         "anchor": "y",
         "domain": [
          0,
          1
         ],
         "title": {
          "text": "Airports"
         }
        },
        "yaxis": {
         "anchor": "x",
         "domain": [
          0,
          1
         ],
         "title": {
          "text": "pax"
         }
        }
       }
      }
     },
     "metadata": {},
     "output_type": "display_data"
    }
   ],
   "source": [
    "df_4plot_1=for_plot(calculated_df)\n",
    "\n",
    "fig1 = px.scatter(df_4plot_1, x=\"O\", y=\"item\", color=\"year\", color_discrete_sequence=[\"blue\", \"red\"],\n",
    "                 opacity=0.7,\n",
    "                 hover_data=[\"summary_outcome\", \"%_change_str\"])\n",
    "\n",
    "fig1.update_layout(title={'text': file_label,\n",
    "                          'y':0.95,\n",
    "                          'x':0.5,\n",
    "           'xanchor': 'center',\n",
    "           'yanchor': 'top'},\n",
    "             xaxis_title=\"Airports\",\n",
    "             yaxis_title=\"pax\",\n",
    "             legend_title=\"Years\",\n",
    "             font=dict(\n",
    "        family=\"Courier New, monospace\",\n",
    "        size=16,\n",
    "        color=\"RebeccaPurple\"\n",
    "    )\n",
    ")\n",
    "# fig1.update_yaxes(range=[0, 5000000])\n",
    "fig1.show()\n",
    "\n",
    "# fig1.write_html(\"scatter_1\" + file_label + \".html\")"
   ]
  },
  {
   "cell_type": "code",
   "execution_count": 113,
   "metadata": {},
   "outputs": [
    {
     "data": {
      "text/html": [
       "<div>\n",
       "<style scoped>\n",
       "    .dataframe tbody tr th:only-of-type {\n",
       "        vertical-align: middle;\n",
       "    }\n",
       "\n",
       "    .dataframe tbody tr th {\n",
       "        vertical-align: top;\n",
       "    }\n",
       "\n",
       "    .dataframe thead th {\n",
       "        text-align: right;\n",
       "    }\n",
       "</style>\n",
       "<table border=\"1\" class=\"dataframe\">\n",
       "  <thead>\n",
       "    <tr style=\"text-align: right;\">\n",
       "      <th></th>\n",
       "      <th>item_abstot_x</th>\n",
       "      <th>item_abstot_y</th>\n",
       "      <th>item_y_x</th>\n",
       "      <th>%_change</th>\n",
       "    </tr>\n",
       "  </thead>\n",
       "  <tbody>\n",
       "    <tr>\n",
       "      <th>count</th>\n",
       "      <td>1.190000e+02</td>\n",
       "      <td>1.190000e+02</td>\n",
       "      <td>1.190000e+02</td>\n",
       "      <td>119.000000</td>\n",
       "    </tr>\n",
       "    <tr>\n",
       "      <th>mean</th>\n",
       "      <td>1.468162e+07</td>\n",
       "      <td>1.540667e+07</td>\n",
       "      <td>7.250534e+05</td>\n",
       "      <td>72.318487</td>\n",
       "    </tr>\n",
       "    <tr>\n",
       "      <th>std</th>\n",
       "      <td>7.227288e+07</td>\n",
       "      <td>7.029334e+07</td>\n",
       "      <td>6.295950e+06</td>\n",
       "      <td>195.528913</td>\n",
       "    </tr>\n",
       "    <tr>\n",
       "      <th>min</th>\n",
       "      <td>0.000000e+00</td>\n",
       "      <td>0.000000e+00</td>\n",
       "      <td>-3.159938e+07</td>\n",
       "      <td>-100.000000</td>\n",
       "    </tr>\n",
       "    <tr>\n",
       "      <th>25%</th>\n",
       "      <td>2.372250e+04</td>\n",
       "      <td>2.422050e+04</td>\n",
       "      <td>-3.801350e+04</td>\n",
       "      <td>-13.545000</td>\n",
       "    </tr>\n",
       "    <tr>\n",
       "      <th>50%</th>\n",
       "      <td>4.749200e+05</td>\n",
       "      <td>6.723580e+05</td>\n",
       "      <td>1.751900e+04</td>\n",
       "      <td>29.820000</td>\n",
       "    </tr>\n",
       "    <tr>\n",
       "      <th>75%</th>\n",
       "      <td>4.424722e+06</td>\n",
       "      <td>5.841394e+06</td>\n",
       "      <td>8.051320e+05</td>\n",
       "      <td>100.000000</td>\n",
       "    </tr>\n",
       "    <tr>\n",
       "      <th>max</th>\n",
       "      <td>7.648776e+08</td>\n",
       "      <td>7.332782e+08</td>\n",
       "      <td>4.418276e+07</td>\n",
       "      <td>1150.940000</td>\n",
       "    </tr>\n",
       "  </tbody>\n",
       "</table>\n",
       "</div>"
      ],
      "text/plain": [
       "       item_abstot_x  item_abstot_y      item_y_x     %_change\n",
       "count   1.190000e+02   1.190000e+02  1.190000e+02   119.000000\n",
       "mean    1.468162e+07   1.540667e+07  7.250534e+05    72.318487\n",
       "std     7.227288e+07   7.029334e+07  6.295950e+06   195.528913\n",
       "min     0.000000e+00   0.000000e+00 -3.159938e+07  -100.000000\n",
       "25%     2.372250e+04   2.422050e+04 -3.801350e+04   -13.545000\n",
       "50%     4.749200e+05   6.723580e+05  1.751900e+04    29.820000\n",
       "75%     4.424722e+06   5.841394e+06  8.051320e+05   100.000000\n",
       "max     7.648776e+08   7.332782e+08  4.418276e+07  1150.940000"
      ]
     },
     "execution_count": 113,
     "metadata": {},
     "output_type": "execute_result"
    }
   ],
   "source": [
    "calculated_df.describe()"
   ]
  },
  {
   "cell_type": "code",
   "execution_count": 114,
   "metadata": {},
   "outputs": [
    {
     "data": {
      "text/html": [
       "<div>\n",
       "<style scoped>\n",
       "    .dataframe tbody tr th:only-of-type {\n",
       "        vertical-align: middle;\n",
       "    }\n",
       "\n",
       "    .dataframe tbody tr th {\n",
       "        vertical-align: top;\n",
       "    }\n",
       "\n",
       "    .dataframe thead th {\n",
       "        text-align: right;\n",
       "    }\n",
       "</style>\n",
       "<table border=\"1\" class=\"dataframe\">\n",
       "  <thead>\n",
       "    <tr style=\"text-align: right;\">\n",
       "      <th></th>\n",
       "      <th>O</th>\n",
       "      <th>item_abstot_x</th>\n",
       "      <th>item_abstot_y</th>\n",
       "      <th>summary_outcome</th>\n",
       "      <th>list_apts</th>\n",
       "      <th>item_y_x</th>\n",
       "      <th>%_change</th>\n",
       "    </tr>\n",
       "  </thead>\n",
       "  <tbody>\n",
       "    <tr>\n",
       "      <th>15</th>\n",
       "      <td>BR</td>\n",
       "      <td>13594501.0</td>\n",
       "      <td>15471856.0</td>\n",
       "      <td>['n=1']</td>\n",
       "      <td>[\"n=['US']\"]</td>\n",
       "      <td>1877355.0</td>\n",
       "      <td>13.81</td>\n",
       "    </tr>\n",
       "    <tr>\n",
       "      <th>18</th>\n",
       "      <td>CA</td>\n",
       "      <td>24735095.0</td>\n",
       "      <td>30676696.0</td>\n",
       "      <td>['n=1']</td>\n",
       "      <td>[\"n=['US']\"]</td>\n",
       "      <td>5941601.0</td>\n",
       "      <td>24.02</td>\n",
       "    </tr>\n",
       "    <tr>\n",
       "      <th>23</th>\n",
       "      <td>CN</td>\n",
       "      <td>94577729.0</td>\n",
       "      <td>138760490.0</td>\n",
       "      <td>['n=1']</td>\n",
       "      <td>[\"n=['US']\"]</td>\n",
       "      <td>44182761.0</td>\n",
       "      <td>46.72</td>\n",
       "    </tr>\n",
       "    <tr>\n",
       "      <th>30</th>\n",
       "      <td>DE</td>\n",
       "      <td>79978442.0</td>\n",
       "      <td>75931803.0</td>\n",
       "      <td>['n=1']</td>\n",
       "      <td>[\"n=['US']\"]</td>\n",
       "      <td>-4046639.0</td>\n",
       "      <td>-5.06</td>\n",
       "    </tr>\n",
       "    <tr>\n",
       "      <th>36</th>\n",
       "      <td>ES</td>\n",
       "      <td>6325710.0</td>\n",
       "      <td>10384719.0</td>\n",
       "      <td>['n=1']</td>\n",
       "      <td>[\"n=['US']\"]</td>\n",
       "      <td>4059009.0</td>\n",
       "      <td>64.17</td>\n",
       "    </tr>\n",
       "  </tbody>\n",
       "</table>\n",
       "</div>"
      ],
      "text/plain": [
       "     O  item_abstot_x  item_abstot_y summary_outcome     list_apts  \\\n",
       "15  BR     13594501.0     15471856.0         ['n=1']  [\"n=['US']\"]   \n",
       "18  CA     24735095.0     30676696.0         ['n=1']  [\"n=['US']\"]   \n",
       "23  CN     94577729.0    138760490.0         ['n=1']  [\"n=['US']\"]   \n",
       "30  DE     79978442.0     75931803.0         ['n=1']  [\"n=['US']\"]   \n",
       "36  ES      6325710.0     10384719.0         ['n=1']  [\"n=['US']\"]   \n",
       "\n",
       "      item_y_x  %_change  \n",
       "15   1877355.0     13.81  \n",
       "18   5941601.0     24.02  \n",
       "23  44182761.0     46.72  \n",
       "30  -4046639.0     -5.06  \n",
       "36   4059009.0     64.17  "
      ]
     },
     "execution_count": 114,
     "metadata": {},
     "output_type": "execute_result"
    }
   ],
   "source": [
    "df_largest_aports=calculated_df.loc[calculated_df['O'].isin(selection)] #selected origins\n",
    "df_largest_aports.head(5)"
   ]
  },
  {
   "cell_type": "code",
   "execution_count": 115,
   "metadata": {},
   "outputs": [
    {
     "data": {
      "application/vnd.plotly.v1+json": {
       "config": {
        "plotlyServerURL": "https://plot.ly"
       },
       "data": [
        {
         "alignmentgroup": "True",
         "cliponaxis": false,
         "customdata": [
          [
           "['n=1']"
          ],
          [
           "['n=1']"
          ],
          [
           "['n=1']"
          ],
          [
           "['n=1']"
          ],
          [
           "['n=1']"
          ],
          [
           "['n=1']"
          ],
          [
           "['n=1']"
          ],
          [
           "['n=1']"
          ],
          [
           "['n=1']"
          ],
          [
           "['n=1']"
          ],
          [
           "['n=1']"
          ],
          [
           "['n=1']"
          ]
         ],
         "hovertemplate": "year=2014<br>O=%{x}<br>item=%{y}<br>%_change_str=%{text}<br>summary_outcome=%{customdata[0]}<extra></extra>",
         "legendgroup": "2014",
         "marker": {
          "color": "#636efa",
          "pattern": {
           "shape": ""
          }
         },
         "name": "2014",
         "offsetgroup": "2014",
         "orientation": "v",
         "showlegend": true,
         "text": [
          null,
          null,
          null,
          null,
          null,
          null,
          null,
          null,
          null,
          null,
          null,
          null
         ],
         "textangle": 0,
         "textfont": {
          "size": 25
         },
         "textposition": "outside",
         "type": "bar",
         "x": [
          "BR",
          "CA",
          "CN",
          "DE",
          "ES",
          "FR",
          "GB",
          "IT",
          "JP",
          "KR",
          "MX",
          "NL"
         ],
         "xaxis": "x",
         "y": [
          13594501,
          24735095,
          94577729,
          79978442,
          6325710,
          34258159,
          69416629,
          15416894,
          96679198,
          72562290,
          27513653,
          30355345
         ],
         "yaxis": "y"
        },
        {
         "alignmentgroup": "True",
         "cliponaxis": false,
         "customdata": [
          [
           null
          ],
          [
           null
          ],
          [
           null
          ],
          [
           null
          ],
          [
           null
          ],
          [
           null
          ],
          [
           null
          ],
          [
           null
          ],
          [
           null
          ],
          [
           null
          ],
          [
           null
          ],
          [
           null
          ]
         ],
         "hovertemplate": "year=2019<br>O=%{x}<br>item=%{y}<br>%_change_str=%{text}<br>summary_outcome=%{customdata[0]}<extra></extra>",
         "legendgroup": "2019",
         "marker": {
          "color": "#EF553B",
          "pattern": {
           "shape": ""
          }
         },
         "name": "2019",
         "offsetgroup": "2019",
         "orientation": "v",
         "showlegend": true,
         "text": [
          "+ 13.81%",
          "+ 24.02%",
          "+ 46.72%",
          "- 5.06%",
          "+ 64.17%",
          "+ 9.86%",
          "+ 15.07%",
          "+ 29.82%",
          "+ 17.16%",
          "- 13.5%",
          "+ 21.67%",
          "- 3.32%"
         ],
         "textangle": 0,
         "textfont": {
          "size": 25
         },
         "textposition": "outside",
         "type": "bar",
         "x": [
          "BR",
          "CA",
          "CN",
          "DE",
          "ES",
          "FR",
          "GB",
          "IT",
          "JP",
          "KR",
          "MX",
          "NL"
         ],
         "xaxis": "x",
         "y": [
          15471856,
          30676696,
          138760490,
          75931803,
          10384719,
          37636572,
          79874595,
          20014748,
          113264776,
          62768768,
          33476315,
          29347460
         ],
         "yaxis": "y"
        }
       ],
       "layout": {
        "barmode": "group",
        "font": {
         "color": "RebeccaPurple",
         "family": "Courier New, monospace",
         "size": 16
        },
        "legend": {
         "title": {
          "text": "Years"
         },
         "tracegroupgap": 0
        },
        "margin": {
         "t": 60
        },
        "template": {
         "data": {
          "bar": [
           {
            "error_x": {
             "color": "#2a3f5f"
            },
            "error_y": {
             "color": "#2a3f5f"
            },
            "marker": {
             "line": {
              "color": "#E5ECF6",
              "width": 0.5
             },
             "pattern": {
              "fillmode": "overlay",
              "size": 10,
              "solidity": 0.2
             }
            },
            "type": "bar"
           }
          ],
          "barpolar": [
           {
            "marker": {
             "line": {
              "color": "#E5ECF6",
              "width": 0.5
             },
             "pattern": {
              "fillmode": "overlay",
              "size": 10,
              "solidity": 0.2
             }
            },
            "type": "barpolar"
           }
          ],
          "carpet": [
           {
            "aaxis": {
             "endlinecolor": "#2a3f5f",
             "gridcolor": "white",
             "linecolor": "white",
             "minorgridcolor": "white",
             "startlinecolor": "#2a3f5f"
            },
            "baxis": {
             "endlinecolor": "#2a3f5f",
             "gridcolor": "white",
             "linecolor": "white",
             "minorgridcolor": "white",
             "startlinecolor": "#2a3f5f"
            },
            "type": "carpet"
           }
          ],
          "choropleth": [
           {
            "colorbar": {
             "outlinewidth": 0,
             "ticks": ""
            },
            "type": "choropleth"
           }
          ],
          "contour": [
           {
            "colorbar": {
             "outlinewidth": 0,
             "ticks": ""
            },
            "colorscale": [
             [
              0,
              "#0d0887"
             ],
             [
              0.1111111111111111,
              "#46039f"
             ],
             [
              0.2222222222222222,
              "#7201a8"
             ],
             [
              0.3333333333333333,
              "#9c179e"
             ],
             [
              0.4444444444444444,
              "#bd3786"
             ],
             [
              0.5555555555555556,
              "#d8576b"
             ],
             [
              0.6666666666666666,
              "#ed7953"
             ],
             [
              0.7777777777777778,
              "#fb9f3a"
             ],
             [
              0.8888888888888888,
              "#fdca26"
             ],
             [
              1,
              "#f0f921"
             ]
            ],
            "type": "contour"
           }
          ],
          "contourcarpet": [
           {
            "colorbar": {
             "outlinewidth": 0,
             "ticks": ""
            },
            "type": "contourcarpet"
           }
          ],
          "heatmap": [
           {
            "colorbar": {
             "outlinewidth": 0,
             "ticks": ""
            },
            "colorscale": [
             [
              0,
              "#0d0887"
             ],
             [
              0.1111111111111111,
              "#46039f"
             ],
             [
              0.2222222222222222,
              "#7201a8"
             ],
             [
              0.3333333333333333,
              "#9c179e"
             ],
             [
              0.4444444444444444,
              "#bd3786"
             ],
             [
              0.5555555555555556,
              "#d8576b"
             ],
             [
              0.6666666666666666,
              "#ed7953"
             ],
             [
              0.7777777777777778,
              "#fb9f3a"
             ],
             [
              0.8888888888888888,
              "#fdca26"
             ],
             [
              1,
              "#f0f921"
             ]
            ],
            "type": "heatmap"
           }
          ],
          "heatmapgl": [
           {
            "colorbar": {
             "outlinewidth": 0,
             "ticks": ""
            },
            "colorscale": [
             [
              0,
              "#0d0887"
             ],
             [
              0.1111111111111111,
              "#46039f"
             ],
             [
              0.2222222222222222,
              "#7201a8"
             ],
             [
              0.3333333333333333,
              "#9c179e"
             ],
             [
              0.4444444444444444,
              "#bd3786"
             ],
             [
              0.5555555555555556,
              "#d8576b"
             ],
             [
              0.6666666666666666,
              "#ed7953"
             ],
             [
              0.7777777777777778,
              "#fb9f3a"
             ],
             [
              0.8888888888888888,
              "#fdca26"
             ],
             [
              1,
              "#f0f921"
             ]
            ],
            "type": "heatmapgl"
           }
          ],
          "histogram": [
           {
            "marker": {
             "pattern": {
              "fillmode": "overlay",
              "size": 10,
              "solidity": 0.2
             }
            },
            "type": "histogram"
           }
          ],
          "histogram2d": [
           {
            "colorbar": {
             "outlinewidth": 0,
             "ticks": ""
            },
            "colorscale": [
             [
              0,
              "#0d0887"
             ],
             [
              0.1111111111111111,
              "#46039f"
             ],
             [
              0.2222222222222222,
              "#7201a8"
             ],
             [
              0.3333333333333333,
              "#9c179e"
             ],
             [
              0.4444444444444444,
              "#bd3786"
             ],
             [
              0.5555555555555556,
              "#d8576b"
             ],
             [
              0.6666666666666666,
              "#ed7953"
             ],
             [
              0.7777777777777778,
              "#fb9f3a"
             ],
             [
              0.8888888888888888,
              "#fdca26"
             ],
             [
              1,
              "#f0f921"
             ]
            ],
            "type": "histogram2d"
           }
          ],
          "histogram2dcontour": [
           {
            "colorbar": {
             "outlinewidth": 0,
             "ticks": ""
            },
            "colorscale": [
             [
              0,
              "#0d0887"
             ],
             [
              0.1111111111111111,
              "#46039f"
             ],
             [
              0.2222222222222222,
              "#7201a8"
             ],
             [
              0.3333333333333333,
              "#9c179e"
             ],
             [
              0.4444444444444444,
              "#bd3786"
             ],
             [
              0.5555555555555556,
              "#d8576b"
             ],
             [
              0.6666666666666666,
              "#ed7953"
             ],
             [
              0.7777777777777778,
              "#fb9f3a"
             ],
             [
              0.8888888888888888,
              "#fdca26"
             ],
             [
              1,
              "#f0f921"
             ]
            ],
            "type": "histogram2dcontour"
           }
          ],
          "mesh3d": [
           {
            "colorbar": {
             "outlinewidth": 0,
             "ticks": ""
            },
            "type": "mesh3d"
           }
          ],
          "parcoords": [
           {
            "line": {
             "colorbar": {
              "outlinewidth": 0,
              "ticks": ""
             }
            },
            "type": "parcoords"
           }
          ],
          "pie": [
           {
            "automargin": true,
            "type": "pie"
           }
          ],
          "scatter": [
           {
            "fillpattern": {
             "fillmode": "overlay",
             "size": 10,
             "solidity": 0.2
            },
            "type": "scatter"
           }
          ],
          "scatter3d": [
           {
            "line": {
             "colorbar": {
              "outlinewidth": 0,
              "ticks": ""
             }
            },
            "marker": {
             "colorbar": {
              "outlinewidth": 0,
              "ticks": ""
             }
            },
            "type": "scatter3d"
           }
          ],
          "scattercarpet": [
           {
            "marker": {
             "colorbar": {
              "outlinewidth": 0,
              "ticks": ""
             }
            },
            "type": "scattercarpet"
           }
          ],
          "scattergeo": [
           {
            "marker": {
             "colorbar": {
              "outlinewidth": 0,
              "ticks": ""
             }
            },
            "type": "scattergeo"
           }
          ],
          "scattergl": [
           {
            "marker": {
             "colorbar": {
              "outlinewidth": 0,
              "ticks": ""
             }
            },
            "type": "scattergl"
           }
          ],
          "scattermapbox": [
           {
            "marker": {
             "colorbar": {
              "outlinewidth": 0,
              "ticks": ""
             }
            },
            "type": "scattermapbox"
           }
          ],
          "scatterpolar": [
           {
            "marker": {
             "colorbar": {
              "outlinewidth": 0,
              "ticks": ""
             }
            },
            "type": "scatterpolar"
           }
          ],
          "scatterpolargl": [
           {
            "marker": {
             "colorbar": {
              "outlinewidth": 0,
              "ticks": ""
             }
            },
            "type": "scatterpolargl"
           }
          ],
          "scatterternary": [
           {
            "marker": {
             "colorbar": {
              "outlinewidth": 0,
              "ticks": ""
             }
            },
            "type": "scatterternary"
           }
          ],
          "surface": [
           {
            "colorbar": {
             "outlinewidth": 0,
             "ticks": ""
            },
            "colorscale": [
             [
              0,
              "#0d0887"
             ],
             [
              0.1111111111111111,
              "#46039f"
             ],
             [
              0.2222222222222222,
              "#7201a8"
             ],
             [
              0.3333333333333333,
              "#9c179e"
             ],
             [
              0.4444444444444444,
              "#bd3786"
             ],
             [
              0.5555555555555556,
              "#d8576b"
             ],
             [
              0.6666666666666666,
              "#ed7953"
             ],
             [
              0.7777777777777778,
              "#fb9f3a"
             ],
             [
              0.8888888888888888,
              "#fdca26"
             ],
             [
              1,
              "#f0f921"
             ]
            ],
            "type": "surface"
           }
          ],
          "table": [
           {
            "cells": {
             "fill": {
              "color": "#EBF0F8"
             },
             "line": {
              "color": "white"
             }
            },
            "header": {
             "fill": {
              "color": "#C8D4E3"
             },
             "line": {
              "color": "white"
             }
            },
            "type": "table"
           }
          ]
         },
         "layout": {
          "annotationdefaults": {
           "arrowcolor": "#2a3f5f",
           "arrowhead": 0,
           "arrowwidth": 1
          },
          "autotypenumbers": "strict",
          "coloraxis": {
           "colorbar": {
            "outlinewidth": 0,
            "ticks": ""
           }
          },
          "colorscale": {
           "diverging": [
            [
             0,
             "#8e0152"
            ],
            [
             0.1,
             "#c51b7d"
            ],
            [
             0.2,
             "#de77ae"
            ],
            [
             0.3,
             "#f1b6da"
            ],
            [
             0.4,
             "#fde0ef"
            ],
            [
             0.5,
             "#f7f7f7"
            ],
            [
             0.6,
             "#e6f5d0"
            ],
            [
             0.7,
             "#b8e186"
            ],
            [
             0.8,
             "#7fbc41"
            ],
            [
             0.9,
             "#4d9221"
            ],
            [
             1,
             "#276419"
            ]
           ],
           "sequential": [
            [
             0,
             "#0d0887"
            ],
            [
             0.1111111111111111,
             "#46039f"
            ],
            [
             0.2222222222222222,
             "#7201a8"
            ],
            [
             0.3333333333333333,
             "#9c179e"
            ],
            [
             0.4444444444444444,
             "#bd3786"
            ],
            [
             0.5555555555555556,
             "#d8576b"
            ],
            [
             0.6666666666666666,
             "#ed7953"
            ],
            [
             0.7777777777777778,
             "#fb9f3a"
            ],
            [
             0.8888888888888888,
             "#fdca26"
            ],
            [
             1,
             "#f0f921"
            ]
           ],
           "sequentialminus": [
            [
             0,
             "#0d0887"
            ],
            [
             0.1111111111111111,
             "#46039f"
            ],
            [
             0.2222222222222222,
             "#7201a8"
            ],
            [
             0.3333333333333333,
             "#9c179e"
            ],
            [
             0.4444444444444444,
             "#bd3786"
            ],
            [
             0.5555555555555556,
             "#d8576b"
            ],
            [
             0.6666666666666666,
             "#ed7953"
            ],
            [
             0.7777777777777778,
             "#fb9f3a"
            ],
            [
             0.8888888888888888,
             "#fdca26"
            ],
            [
             1,
             "#f0f921"
            ]
           ]
          },
          "colorway": [
           "#636efa",
           "#EF553B",
           "#00cc96",
           "#ab63fa",
           "#FFA15A",
           "#19d3f3",
           "#FF6692",
           "#B6E880",
           "#FF97FF",
           "#FECB52"
          ],
          "font": {
           "color": "#2a3f5f"
          },
          "geo": {
           "bgcolor": "white",
           "lakecolor": "white",
           "landcolor": "#E5ECF6",
           "showlakes": true,
           "showland": true,
           "subunitcolor": "white"
          },
          "hoverlabel": {
           "align": "left"
          },
          "hovermode": "closest",
          "mapbox": {
           "style": "light"
          },
          "paper_bgcolor": "white",
          "plot_bgcolor": "#E5ECF6",
          "polar": {
           "angularaxis": {
            "gridcolor": "white",
            "linecolor": "white",
            "ticks": ""
           },
           "bgcolor": "#E5ECF6",
           "radialaxis": {
            "gridcolor": "white",
            "linecolor": "white",
            "ticks": ""
           }
          },
          "scene": {
           "xaxis": {
            "backgroundcolor": "#E5ECF6",
            "gridcolor": "white",
            "gridwidth": 2,
            "linecolor": "white",
            "showbackground": true,
            "ticks": "",
            "zerolinecolor": "white"
           },
           "yaxis": {
            "backgroundcolor": "#E5ECF6",
            "gridcolor": "white",
            "gridwidth": 2,
            "linecolor": "white",
            "showbackground": true,
            "ticks": "",
            "zerolinecolor": "white"
           },
           "zaxis": {
            "backgroundcolor": "#E5ECF6",
            "gridcolor": "white",
            "gridwidth": 2,
            "linecolor": "white",
            "showbackground": true,
            "ticks": "",
            "zerolinecolor": "white"
           }
          },
          "shapedefaults": {
           "line": {
            "color": "#2a3f5f"
           }
          },
          "ternary": {
           "aaxis": {
            "gridcolor": "white",
            "linecolor": "white",
            "ticks": ""
           },
           "baxis": {
            "gridcolor": "white",
            "linecolor": "white",
            "ticks": ""
           },
           "bgcolor": "#E5ECF6",
           "caxis": {
            "gridcolor": "white",
            "linecolor": "white",
            "ticks": ""
           }
          },
          "title": {
           "x": 0.05
          },
          "xaxis": {
           "automargin": true,
           "gridcolor": "white",
           "linecolor": "white",
           "ticks": "",
           "title": {
            "standoff": 15
           },
           "zerolinecolor": "white",
           "zerolinewidth": 2
          },
          "yaxis": {
           "automargin": true,
           "gridcolor": "white",
           "linecolor": "white",
           "ticks": "",
           "title": {
            "standoff": 15
           },
           "zerolinecolor": "white",
           "zerolinewidth": 2
          }
         }
        },
        "title": {
         "text": "Change in:intl_by_countr_cargo_yy2014_2019",
         "x": 0.5,
         "xanchor": "center",
         "y": 0.95,
         "yanchor": "top"
        },
        "xaxis": {
         "anchor": "y",
         "domain": [
          0,
          1
         ],
         "title": {
          "text": "Airports"
         }
        },
        "yaxis": {
         "anchor": "x",
         "domain": [
          0,
          1
         ],
         "title": {
          "text": "pax"
         }
        }
       }
      }
     },
     "metadata": {},
     "output_type": "display_data"
    }
   ],
   "source": [
    "# selected largest aports/countries\n",
    "\n",
    "df_4plot_2=for_plot(df_largest_aports)\n",
    "\n",
    "fig2 = px.bar(df_4plot_2, x=\"O\", y=\"item\", color='year', text='%_change_str', hover_data=[\"summary_outcome\"], barmode=\"group\")\n",
    "\n",
    "fig2.update_layout(title={'text': \"Change in:\"+file_label,\n",
    "                          'y':0.95,\n",
    "                          'x':0.5,\n",
    "           'xanchor': 'center',\n",
    "           'yanchor': 'top'},\n",
    "             xaxis_title=\"Airports\",\n",
    "             yaxis_title=\"pax\",\n",
    "             legend_title=\"Years\",\n",
    "             font=dict(\n",
    "        family=\"Courier New, monospace\",\n",
    "        size=16,\n",
    "        color=\"RebeccaPurple\"\n",
    "    )\n",
    ")\n",
    "# fig2.update_yaxes(range=[0, 2000000])\n",
    "\n",
    "fig2.update_traces(textfont_size=25, textangle=0, textposition=\"outside\", cliponaxis=False)\n",
    "\n",
    "fig2.show()\n",
    "\n",
    "# fig2.write_html(\"bar_\" + file_label + \".html\")"
   ]
  },
  {
   "cell_type": "code",
   "execution_count": 116,
   "metadata": {},
   "outputs": [
    {
     "data": {
      "application/vnd.plotly.v1+json": {
       "config": {
        "plotlyServerURL": "https://plot.ly"
       },
       "data": [
        {
         "customdata": [
          [
           "['n=1']",
           null
          ],
          [
           "['n=1']",
           null
          ],
          [
           "['n=1']",
           null
          ],
          [
           "['n=1']",
           null
          ],
          [
           "['n=1']",
           null
          ],
          [
           "['n=1']",
           null
          ],
          [
           "['n=1']",
           null
          ],
          [
           "['n=1']",
           null
          ],
          [
           "['n=1']",
           null
          ],
          [
           "['n=1']",
           null
          ],
          [
           "['n=1']",
           null
          ],
          [
           "['n=1']",
           null
          ]
         ],
         "hovertemplate": "year=2014<br>O=%{x}<br>item=%{y}<br>summary_outcome=%{customdata[0]}<br>%_change_str=%{customdata[1]}<extra></extra>",
         "legendgroup": "2014",
         "marker": {
          "color": "blue",
          "opacity": 0.7,
          "symbol": "circle"
         },
         "mode": "markers",
         "name": "2014",
         "orientation": "v",
         "showlegend": true,
         "type": "scatter",
         "x": [
          "BR",
          "CA",
          "CN",
          "DE",
          "ES",
          "FR",
          "GB",
          "IT",
          "JP",
          "KR",
          "MX",
          "NL"
         ],
         "xaxis": "x",
         "y": [
          13594501,
          24735095,
          94577729,
          79978442,
          6325710,
          34258159,
          69416629,
          15416894,
          96679198,
          72562290,
          27513653,
          30355345
         ],
         "yaxis": "y"
        },
        {
         "customdata": [
          [
           null,
           "+ 13.81%"
          ],
          [
           null,
           "+ 24.02%"
          ],
          [
           null,
           "+ 46.72%"
          ],
          [
           null,
           "- 5.06%"
          ],
          [
           null,
           "+ 64.17%"
          ],
          [
           null,
           "+ 9.86%"
          ],
          [
           null,
           "+ 15.07%"
          ],
          [
           null,
           "+ 29.82%"
          ],
          [
           null,
           "+ 17.16%"
          ],
          [
           null,
           "- 13.5%"
          ],
          [
           null,
           "+ 21.67%"
          ],
          [
           null,
           "- 3.32%"
          ]
         ],
         "hovertemplate": "year=2019<br>O=%{x}<br>item=%{y}<br>summary_outcome=%{customdata[0]}<br>%_change_str=%{customdata[1]}<extra></extra>",
         "legendgroup": "2019",
         "marker": {
          "color": "red",
          "opacity": 0.7,
          "symbol": "circle"
         },
         "mode": "markers",
         "name": "2019",
         "orientation": "v",
         "showlegend": true,
         "type": "scatter",
         "x": [
          "BR",
          "CA",
          "CN",
          "DE",
          "ES",
          "FR",
          "GB",
          "IT",
          "JP",
          "KR",
          "MX",
          "NL"
         ],
         "xaxis": "x",
         "y": [
          15471856,
          30676696,
          138760490,
          75931803,
          10384719,
          37636572,
          79874595,
          20014748,
          113264776,
          62768768,
          33476315,
          29347460
         ],
         "yaxis": "y"
        }
       ],
       "layout": {
        "font": {
         "color": "RebeccaPurple",
         "family": "Courier New, monospace",
         "size": 16
        },
        "legend": {
         "title": {
          "text": "Years"
         },
         "tracegroupgap": 0
        },
        "margin": {
         "t": 60
        },
        "template": {
         "data": {
          "bar": [
           {
            "error_x": {
             "color": "#2a3f5f"
            },
            "error_y": {
             "color": "#2a3f5f"
            },
            "marker": {
             "line": {
              "color": "#E5ECF6",
              "width": 0.5
             },
             "pattern": {
              "fillmode": "overlay",
              "size": 10,
              "solidity": 0.2
             }
            },
            "type": "bar"
           }
          ],
          "barpolar": [
           {
            "marker": {
             "line": {
              "color": "#E5ECF6",
              "width": 0.5
             },
             "pattern": {
              "fillmode": "overlay",
              "size": 10,
              "solidity": 0.2
             }
            },
            "type": "barpolar"
           }
          ],
          "carpet": [
           {
            "aaxis": {
             "endlinecolor": "#2a3f5f",
             "gridcolor": "white",
             "linecolor": "white",
             "minorgridcolor": "white",
             "startlinecolor": "#2a3f5f"
            },
            "baxis": {
             "endlinecolor": "#2a3f5f",
             "gridcolor": "white",
             "linecolor": "white",
             "minorgridcolor": "white",
             "startlinecolor": "#2a3f5f"
            },
            "type": "carpet"
           }
          ],
          "choropleth": [
           {
            "colorbar": {
             "outlinewidth": 0,
             "ticks": ""
            },
            "type": "choropleth"
           }
          ],
          "contour": [
           {
            "colorbar": {
             "outlinewidth": 0,
             "ticks": ""
            },
            "colorscale": [
             [
              0,
              "#0d0887"
             ],
             [
              0.1111111111111111,
              "#46039f"
             ],
             [
              0.2222222222222222,
              "#7201a8"
             ],
             [
              0.3333333333333333,
              "#9c179e"
             ],
             [
              0.4444444444444444,
              "#bd3786"
             ],
             [
              0.5555555555555556,
              "#d8576b"
             ],
             [
              0.6666666666666666,
              "#ed7953"
             ],
             [
              0.7777777777777778,
              "#fb9f3a"
             ],
             [
              0.8888888888888888,
              "#fdca26"
             ],
             [
              1,
              "#f0f921"
             ]
            ],
            "type": "contour"
           }
          ],
          "contourcarpet": [
           {
            "colorbar": {
             "outlinewidth": 0,
             "ticks": ""
            },
            "type": "contourcarpet"
           }
          ],
          "heatmap": [
           {
            "colorbar": {
             "outlinewidth": 0,
             "ticks": ""
            },
            "colorscale": [
             [
              0,
              "#0d0887"
             ],
             [
              0.1111111111111111,
              "#46039f"
             ],
             [
              0.2222222222222222,
              "#7201a8"
             ],
             [
              0.3333333333333333,
              "#9c179e"
             ],
             [
              0.4444444444444444,
              "#bd3786"
             ],
             [
              0.5555555555555556,
              "#d8576b"
             ],
             [
              0.6666666666666666,
              "#ed7953"
             ],
             [
              0.7777777777777778,
              "#fb9f3a"
             ],
             [
              0.8888888888888888,
              "#fdca26"
             ],
             [
              1,
              "#f0f921"
             ]
            ],
            "type": "heatmap"
           }
          ],
          "heatmapgl": [
           {
            "colorbar": {
             "outlinewidth": 0,
             "ticks": ""
            },
            "colorscale": [
             [
              0,
              "#0d0887"
             ],
             [
              0.1111111111111111,
              "#46039f"
             ],
             [
              0.2222222222222222,
              "#7201a8"
             ],
             [
              0.3333333333333333,
              "#9c179e"
             ],
             [
              0.4444444444444444,
              "#bd3786"
             ],
             [
              0.5555555555555556,
              "#d8576b"
             ],
             [
              0.6666666666666666,
              "#ed7953"
             ],
             [
              0.7777777777777778,
              "#fb9f3a"
             ],
             [
              0.8888888888888888,
              "#fdca26"
             ],
             [
              1,
              "#f0f921"
             ]
            ],
            "type": "heatmapgl"
           }
          ],
          "histogram": [
           {
            "marker": {
             "pattern": {
              "fillmode": "overlay",
              "size": 10,
              "solidity": 0.2
             }
            },
            "type": "histogram"
           }
          ],
          "histogram2d": [
           {
            "colorbar": {
             "outlinewidth": 0,
             "ticks": ""
            },
            "colorscale": [
             [
              0,
              "#0d0887"
             ],
             [
              0.1111111111111111,
              "#46039f"
             ],
             [
              0.2222222222222222,
              "#7201a8"
             ],
             [
              0.3333333333333333,
              "#9c179e"
             ],
             [
              0.4444444444444444,
              "#bd3786"
             ],
             [
              0.5555555555555556,
              "#d8576b"
             ],
             [
              0.6666666666666666,
              "#ed7953"
             ],
             [
              0.7777777777777778,
              "#fb9f3a"
             ],
             [
              0.8888888888888888,
              "#fdca26"
             ],
             [
              1,
              "#f0f921"
             ]
            ],
            "type": "histogram2d"
           }
          ],
          "histogram2dcontour": [
           {
            "colorbar": {
             "outlinewidth": 0,
             "ticks": ""
            },
            "colorscale": [
             [
              0,
              "#0d0887"
             ],
             [
              0.1111111111111111,
              "#46039f"
             ],
             [
              0.2222222222222222,
              "#7201a8"
             ],
             [
              0.3333333333333333,
              "#9c179e"
             ],
             [
              0.4444444444444444,
              "#bd3786"
             ],
             [
              0.5555555555555556,
              "#d8576b"
             ],
             [
              0.6666666666666666,
              "#ed7953"
             ],
             [
              0.7777777777777778,
              "#fb9f3a"
             ],
             [
              0.8888888888888888,
              "#fdca26"
             ],
             [
              1,
              "#f0f921"
             ]
            ],
            "type": "histogram2dcontour"
           }
          ],
          "mesh3d": [
           {
            "colorbar": {
             "outlinewidth": 0,
             "ticks": ""
            },
            "type": "mesh3d"
           }
          ],
          "parcoords": [
           {
            "line": {
             "colorbar": {
              "outlinewidth": 0,
              "ticks": ""
             }
            },
            "type": "parcoords"
           }
          ],
          "pie": [
           {
            "automargin": true,
            "type": "pie"
           }
          ],
          "scatter": [
           {
            "fillpattern": {
             "fillmode": "overlay",
             "size": 10,
             "solidity": 0.2
            },
            "type": "scatter"
           }
          ],
          "scatter3d": [
           {
            "line": {
             "colorbar": {
              "outlinewidth": 0,
              "ticks": ""
             }
            },
            "marker": {
             "colorbar": {
              "outlinewidth": 0,
              "ticks": ""
             }
            },
            "type": "scatter3d"
           }
          ],
          "scattercarpet": [
           {
            "marker": {
             "colorbar": {
              "outlinewidth": 0,
              "ticks": ""
             }
            },
            "type": "scattercarpet"
           }
          ],
          "scattergeo": [
           {
            "marker": {
             "colorbar": {
              "outlinewidth": 0,
              "ticks": ""
             }
            },
            "type": "scattergeo"
           }
          ],
          "scattergl": [
           {
            "marker": {
             "colorbar": {
              "outlinewidth": 0,
              "ticks": ""
             }
            },
            "type": "scattergl"
           }
          ],
          "scattermapbox": [
           {
            "marker": {
             "colorbar": {
              "outlinewidth": 0,
              "ticks": ""
             }
            },
            "type": "scattermapbox"
           }
          ],
          "scatterpolar": [
           {
            "marker": {
             "colorbar": {
              "outlinewidth": 0,
              "ticks": ""
             }
            },
            "type": "scatterpolar"
           }
          ],
          "scatterpolargl": [
           {
            "marker": {
             "colorbar": {
              "outlinewidth": 0,
              "ticks": ""
             }
            },
            "type": "scatterpolargl"
           }
          ],
          "scatterternary": [
           {
            "marker": {
             "colorbar": {
              "outlinewidth": 0,
              "ticks": ""
             }
            },
            "type": "scatterternary"
           }
          ],
          "surface": [
           {
            "colorbar": {
             "outlinewidth": 0,
             "ticks": ""
            },
            "colorscale": [
             [
              0,
              "#0d0887"
             ],
             [
              0.1111111111111111,
              "#46039f"
             ],
             [
              0.2222222222222222,
              "#7201a8"
             ],
             [
              0.3333333333333333,
              "#9c179e"
             ],
             [
              0.4444444444444444,
              "#bd3786"
             ],
             [
              0.5555555555555556,
              "#d8576b"
             ],
             [
              0.6666666666666666,
              "#ed7953"
             ],
             [
              0.7777777777777778,
              "#fb9f3a"
             ],
             [
              0.8888888888888888,
              "#fdca26"
             ],
             [
              1,
              "#f0f921"
             ]
            ],
            "type": "surface"
           }
          ],
          "table": [
           {
            "cells": {
             "fill": {
              "color": "#EBF0F8"
             },
             "line": {
              "color": "white"
             }
            },
            "header": {
             "fill": {
              "color": "#C8D4E3"
             },
             "line": {
              "color": "white"
             }
            },
            "type": "table"
           }
          ]
         },
         "layout": {
          "annotationdefaults": {
           "arrowcolor": "#2a3f5f",
           "arrowhead": 0,
           "arrowwidth": 1
          },
          "autotypenumbers": "strict",
          "coloraxis": {
           "colorbar": {
            "outlinewidth": 0,
            "ticks": ""
           }
          },
          "colorscale": {
           "diverging": [
            [
             0,
             "#8e0152"
            ],
            [
             0.1,
             "#c51b7d"
            ],
            [
             0.2,
             "#de77ae"
            ],
            [
             0.3,
             "#f1b6da"
            ],
            [
             0.4,
             "#fde0ef"
            ],
            [
             0.5,
             "#f7f7f7"
            ],
            [
             0.6,
             "#e6f5d0"
            ],
            [
             0.7,
             "#b8e186"
            ],
            [
             0.8,
             "#7fbc41"
            ],
            [
             0.9,
             "#4d9221"
            ],
            [
             1,
             "#276419"
            ]
           ],
           "sequential": [
            [
             0,
             "#0d0887"
            ],
            [
             0.1111111111111111,
             "#46039f"
            ],
            [
             0.2222222222222222,
             "#7201a8"
            ],
            [
             0.3333333333333333,
             "#9c179e"
            ],
            [
             0.4444444444444444,
             "#bd3786"
            ],
            [
             0.5555555555555556,
             "#d8576b"
            ],
            [
             0.6666666666666666,
             "#ed7953"
            ],
            [
             0.7777777777777778,
             "#fb9f3a"
            ],
            [
             0.8888888888888888,
             "#fdca26"
            ],
            [
             1,
             "#f0f921"
            ]
           ],
           "sequentialminus": [
            [
             0,
             "#0d0887"
            ],
            [
             0.1111111111111111,
             "#46039f"
            ],
            [
             0.2222222222222222,
             "#7201a8"
            ],
            [
             0.3333333333333333,
             "#9c179e"
            ],
            [
             0.4444444444444444,
             "#bd3786"
            ],
            [
             0.5555555555555556,
             "#d8576b"
            ],
            [
             0.6666666666666666,
             "#ed7953"
            ],
            [
             0.7777777777777778,
             "#fb9f3a"
            ],
            [
             0.8888888888888888,
             "#fdca26"
            ],
            [
             1,
             "#f0f921"
            ]
           ]
          },
          "colorway": [
           "#636efa",
           "#EF553B",
           "#00cc96",
           "#ab63fa",
           "#FFA15A",
           "#19d3f3",
           "#FF6692",
           "#B6E880",
           "#FF97FF",
           "#FECB52"
          ],
          "font": {
           "color": "#2a3f5f"
          },
          "geo": {
           "bgcolor": "white",
           "lakecolor": "white",
           "landcolor": "#E5ECF6",
           "showlakes": true,
           "showland": true,
           "subunitcolor": "white"
          },
          "hoverlabel": {
           "align": "left"
          },
          "hovermode": "closest",
          "mapbox": {
           "style": "light"
          },
          "paper_bgcolor": "white",
          "plot_bgcolor": "#E5ECF6",
          "polar": {
           "angularaxis": {
            "gridcolor": "white",
            "linecolor": "white",
            "ticks": ""
           },
           "bgcolor": "#E5ECF6",
           "radialaxis": {
            "gridcolor": "white",
            "linecolor": "white",
            "ticks": ""
           }
          },
          "scene": {
           "xaxis": {
            "backgroundcolor": "#E5ECF6",
            "gridcolor": "white",
            "gridwidth": 2,
            "linecolor": "white",
            "showbackground": true,
            "ticks": "",
            "zerolinecolor": "white"
           },
           "yaxis": {
            "backgroundcolor": "#E5ECF6",
            "gridcolor": "white",
            "gridwidth": 2,
            "linecolor": "white",
            "showbackground": true,
            "ticks": "",
            "zerolinecolor": "white"
           },
           "zaxis": {
            "backgroundcolor": "#E5ECF6",
            "gridcolor": "white",
            "gridwidth": 2,
            "linecolor": "white",
            "showbackground": true,
            "ticks": "",
            "zerolinecolor": "white"
           }
          },
          "shapedefaults": {
           "line": {
            "color": "#2a3f5f"
           }
          },
          "ternary": {
           "aaxis": {
            "gridcolor": "white",
            "linecolor": "white",
            "ticks": ""
           },
           "baxis": {
            "gridcolor": "white",
            "linecolor": "white",
            "ticks": ""
           },
           "bgcolor": "#E5ECF6",
           "caxis": {
            "gridcolor": "white",
            "linecolor": "white",
            "ticks": ""
           }
          },
          "title": {
           "x": 0.05
          },
          "xaxis": {
           "automargin": true,
           "gridcolor": "white",
           "linecolor": "white",
           "ticks": "",
           "title": {
            "standoff": 15
           },
           "zerolinecolor": "white",
           "zerolinewidth": 2
          },
          "yaxis": {
           "automargin": true,
           "gridcolor": "white",
           "linecolor": "white",
           "ticks": "",
           "title": {
            "standoff": 15
           },
           "zerolinecolor": "white",
           "zerolinewidth": 2
          }
         }
        },
        "title": {
         "text": "intl_by_countr_cargo_yy2014_2019",
         "x": 0.5,
         "xanchor": "center",
         "y": 0.95,
         "yanchor": "top"
        },
        "xaxis": {
         "anchor": "y",
         "domain": [
          0,
          1
         ],
         "title": {
          "text": "Airports"
         }
        },
        "yaxis": {
         "anchor": "x",
         "domain": [
          0,
          1
         ],
         "title": {
          "text": "pax"
         }
        }
       }
      }
     },
     "metadata": {},
     "output_type": "display_data"
    }
   ],
   "source": [
    "fig1 = px.scatter(df_4plot_2, x=\"O\", y=\"item\", color=\"year\", color_discrete_sequence=[\"blue\", \"red\"],\n",
    "                 opacity=0.7,\n",
    "                 hover_data=[\"summary_outcome\", \"%_change_str\"])\n",
    "\n",
    "fig1.update_layout(title={'text': file_label,\n",
    "                          'y':0.95,\n",
    "                          'x':0.5,\n",
    "           'xanchor': 'center',\n",
    "           'yanchor': 'top'},\n",
    "             xaxis_title=\"Airports\",\n",
    "             yaxis_title=\"pax\",\n",
    "             legend_title=\"Years\",\n",
    "             font=dict(\n",
    "        family=\"Courier New, monospace\",\n",
    "        size=16,\n",
    "        color=\"RebeccaPurple\"\n",
    "    )\n",
    ")\n",
    "# fig1.update_yaxes(range=[0, 5000000])\n",
    "fig1.show()\n",
    "\n",
    "# fig1.write_html(\"scatter_2\" + file_label + \".html\")"
   ]
  },
  {
   "cell_type": "code",
   "execution_count": 117,
   "metadata": {},
   "outputs": [
    {
     "name": "stdout",
     "output_type": "stream",
     "text": [
      "       item_abstot_x  item_abstot_y      item_y_x     %_change\n",
      "count   1.190000e+02   1.190000e+02  1.190000e+02   119.000000\n",
      "mean    1.468162e+07   1.540667e+07  7.250534e+05    72.318487\n",
      "std     7.227288e+07   7.029334e+07  6.295950e+06   195.528913\n",
      "min     0.000000e+00   0.000000e+00 -3.159938e+07  -100.000000\n",
      "25%     2.372250e+04   2.422050e+04 -3.801350e+04   -13.545000\n",
      "50%     4.749200e+05   6.723580e+05  1.751900e+04    29.820000\n",
      "75%     4.424722e+06   5.841394e+06  8.051320e+05   100.000000\n",
      "max     7.648776e+08   7.332782e+08  4.418276e+07  1150.940000\n"
     ]
    },
    {
     "data": {
      "text/html": [
       "<div>\n",
       "<style scoped>\n",
       "    .dataframe tbody tr th:only-of-type {\n",
       "        vertical-align: middle;\n",
       "    }\n",
       "\n",
       "    .dataframe tbody tr th {\n",
       "        vertical-align: top;\n",
       "    }\n",
       "\n",
       "    .dataframe thead th {\n",
       "        text-align: right;\n",
       "    }\n",
       "</style>\n",
       "<table border=\"1\" class=\"dataframe\">\n",
       "  <thead>\n",
       "    <tr style=\"text-align: right;\">\n",
       "      <th></th>\n",
       "      <th>O</th>\n",
       "      <th>item</th>\n",
       "      <th>summary_outcome</th>\n",
       "      <th>year</th>\n",
       "      <th>list_apts</th>\n",
       "      <th>%_change_str</th>\n",
       "    </tr>\n",
       "  </thead>\n",
       "  <tbody>\n",
       "    <tr>\n",
       "      <th>0</th>\n",
       "      <td>AE</td>\n",
       "      <td>8784127.0</td>\n",
       "      <td>['n=1']</td>\n",
       "      <td>2014</td>\n",
       "      <td>NaN</td>\n",
       "      <td>NaN</td>\n",
       "    </tr>\n",
       "    <tr>\n",
       "      <th>1</th>\n",
       "      <td>AG</td>\n",
       "      <td>213514.0</td>\n",
       "      <td>['n=1']</td>\n",
       "      <td>2014</td>\n",
       "      <td>NaN</td>\n",
       "      <td>NaN</td>\n",
       "    </tr>\n",
       "    <tr>\n",
       "      <th>2</th>\n",
       "      <td>AI</td>\n",
       "      <td>0.0</td>\n",
       "      <td>['0=1']</td>\n",
       "      <td>2014</td>\n",
       "      <td>NaN</td>\n",
       "      <td>NaN</td>\n",
       "    </tr>\n",
       "    <tr>\n",
       "      <th>3</th>\n",
       "      <td>AO</td>\n",
       "      <td>476920.0</td>\n",
       "      <td>['l=1']</td>\n",
       "      <td>2014</td>\n",
       "      <td>NaN</td>\n",
       "      <td>NaN</td>\n",
       "    </tr>\n",
       "    <tr>\n",
       "      <th>4</th>\n",
       "      <td>AR</td>\n",
       "      <td>4930304.0</td>\n",
       "      <td>['n=1']</td>\n",
       "      <td>2014</td>\n",
       "      <td>NaN</td>\n",
       "      <td>NaN</td>\n",
       "    </tr>\n",
       "    <tr>\n",
       "      <th>...</th>\n",
       "      <td>...</td>\n",
       "      <td>...</td>\n",
       "      <td>...</td>\n",
       "      <td>...</td>\n",
       "      <td>...</td>\n",
       "      <td>...</td>\n",
       "    </tr>\n",
       "    <tr>\n",
       "      <th>114</th>\n",
       "      <td>VE</td>\n",
       "      <td>0.0</td>\n",
       "      <td>NaN</td>\n",
       "      <td>2019</td>\n",
       "      <td>[\"l=['US']\"]</td>\n",
       "      <td>- 100.0%</td>\n",
       "    </tr>\n",
       "    <tr>\n",
       "      <th>115</th>\n",
       "      <td>VG</td>\n",
       "      <td>7389.0</td>\n",
       "      <td>NaN</td>\n",
       "      <td>2019</td>\n",
       "      <td>[\"n=['US']\"]</td>\n",
       "      <td>- 87.98%</td>\n",
       "    </tr>\n",
       "    <tr>\n",
       "      <th>116</th>\n",
       "      <td>VN</td>\n",
       "      <td>367535.0</td>\n",
       "      <td>NaN</td>\n",
       "      <td>2019</td>\n",
       "      <td>[\"a=['US']\"]</td>\n",
       "      <td>+ 100.0%</td>\n",
       "    </tr>\n",
       "    <tr>\n",
       "      <th>117</th>\n",
       "      <td>WS</td>\n",
       "      <td>6699.0</td>\n",
       "      <td>NaN</td>\n",
       "      <td>2019</td>\n",
       "      <td>[\"n=['US']\"]</td>\n",
       "      <td>+ 86.71%</td>\n",
       "    </tr>\n",
       "    <tr>\n",
       "      <th>118</th>\n",
       "      <td>ZA</td>\n",
       "      <td>491423.0</td>\n",
       "      <td>NaN</td>\n",
       "      <td>2019</td>\n",
       "      <td>[\"n=['US']\"]</td>\n",
       "      <td>+ 4.46%</td>\n",
       "    </tr>\n",
       "  </tbody>\n",
       "</table>\n",
       "<p>238 rows × 6 columns</p>\n",
       "</div>"
      ],
      "text/plain": [
       "      O       item summary_outcome  year     list_apts %_change_str\n",
       "0    AE  8784127.0         ['n=1']  2014           NaN          NaN\n",
       "1    AG   213514.0         ['n=1']  2014           NaN          NaN\n",
       "2    AI        0.0         ['0=1']  2014           NaN          NaN\n",
       "3    AO   476920.0         ['l=1']  2014           NaN          NaN\n",
       "4    AR  4930304.0         ['n=1']  2014           NaN          NaN\n",
       "..   ..        ...             ...   ...           ...          ...\n",
       "114  VE        0.0             NaN  2019  [\"l=['US']\"]     - 100.0%\n",
       "115  VG     7389.0             NaN  2019  [\"n=['US']\"]     - 87.98%\n",
       "116  VN   367535.0             NaN  2019  [\"a=['US']\"]     + 100.0%\n",
       "117  WS     6699.0             NaN  2019  [\"n=['US']\"]     + 86.71%\n",
       "118  ZA   491423.0             NaN  2019  [\"n=['US']\"]      + 4.46%\n",
       "\n",
       "[238 rows x 6 columns]"
      ]
     },
     "execution_count": 117,
     "metadata": {},
     "output_type": "execute_result"
    }
   ],
   "source": [
    "print(calculated_df.describe())\n",
    "df_4plot"
   ]
  },
  {
   "cell_type": "code",
   "execution_count": 118,
   "metadata": {},
   "outputs": [
    {
     "name": "stdout",
     "output_type": "stream",
     "text": [
      "intl_by_countr_cargo_yy2014_2019\n"
     ]
    },
    {
     "data": {
      "text/html": [
       "<div>\n",
       "<style scoped>\n",
       "    .dataframe tbody tr th:only-of-type {\n",
       "        vertical-align: middle;\n",
       "    }\n",
       "\n",
       "    .dataframe tbody tr th {\n",
       "        vertical-align: top;\n",
       "    }\n",
       "\n",
       "    .dataframe thead th {\n",
       "        text-align: right;\n",
       "    }\n",
       "</style>\n",
       "<table border=\"1\" class=\"dataframe\">\n",
       "  <thead>\n",
       "    <tr style=\"text-align: right;\">\n",
       "      <th></th>\n",
       "      <th>0</th>\n",
       "      <th>a</th>\n",
       "      <th>l</th>\n",
       "      <th>n</th>\n",
       "      <th>O</th>\n",
       "      <th>item_abstot_x</th>\n",
       "      <th>item_abstot_y</th>\n",
       "      <th>summary_outcome</th>\n",
       "      <th>list_apts</th>\n",
       "      <th>item_y_x</th>\n",
       "      <th>%_change</th>\n",
       "    </tr>\n",
       "  </thead>\n",
       "  <tbody>\n",
       "    <tr>\n",
       "      <th>0</th>\n",
       "      <td>NaN</td>\n",
       "      <td>&lt;NA&gt;</td>\n",
       "      <td>&lt;NA&gt;</td>\n",
       "      <td>&lt;NA&gt;</td>\n",
       "      <td>BR</td>\n",
       "      <td>13594501.0</td>\n",
       "      <td>15471856.0</td>\n",
       "      <td>['n=1']</td>\n",
       "      <td>[\"n=['US']\"]</td>\n",
       "      <td>1877355.0</td>\n",
       "      <td>13.81</td>\n",
       "    </tr>\n",
       "    <tr>\n",
       "      <th>1</th>\n",
       "      <td>NaN</td>\n",
       "      <td>&lt;NA&gt;</td>\n",
       "      <td>&lt;NA&gt;</td>\n",
       "      <td>&lt;NA&gt;</td>\n",
       "      <td>CA</td>\n",
       "      <td>24735095.0</td>\n",
       "      <td>30676696.0</td>\n",
       "      <td>['n=1']</td>\n",
       "      <td>[\"n=['US']\"]</td>\n",
       "      <td>5941601.0</td>\n",
       "      <td>24.02</td>\n",
       "    </tr>\n",
       "    <tr>\n",
       "      <th>2</th>\n",
       "      <td>NaN</td>\n",
       "      <td>&lt;NA&gt;</td>\n",
       "      <td>&lt;NA&gt;</td>\n",
       "      <td>&lt;NA&gt;</td>\n",
       "      <td>CN</td>\n",
       "      <td>94577729.0</td>\n",
       "      <td>138760490.0</td>\n",
       "      <td>['n=1']</td>\n",
       "      <td>[\"n=['US']\"]</td>\n",
       "      <td>44182761.0</td>\n",
       "      <td>46.72</td>\n",
       "    </tr>\n",
       "    <tr>\n",
       "      <th>3</th>\n",
       "      <td>NaN</td>\n",
       "      <td>&lt;NA&gt;</td>\n",
       "      <td>&lt;NA&gt;</td>\n",
       "      <td>&lt;NA&gt;</td>\n",
       "      <td>DE</td>\n",
       "      <td>79978442.0</td>\n",
       "      <td>75931803.0</td>\n",
       "      <td>['n=1']</td>\n",
       "      <td>[\"n=['US']\"]</td>\n",
       "      <td>-4046639.0</td>\n",
       "      <td>-5.06</td>\n",
       "    </tr>\n",
       "    <tr>\n",
       "      <th>4</th>\n",
       "      <td>NaN</td>\n",
       "      <td>&lt;NA&gt;</td>\n",
       "      <td>&lt;NA&gt;</td>\n",
       "      <td>&lt;NA&gt;</td>\n",
       "      <td>ES</td>\n",
       "      <td>6325710.0</td>\n",
       "      <td>10384719.0</td>\n",
       "      <td>['n=1']</td>\n",
       "      <td>[\"n=['US']\"]</td>\n",
       "      <td>4059009.0</td>\n",
       "      <td>64.17</td>\n",
       "    </tr>\n",
       "  </tbody>\n",
       "</table>\n",
       "</div>"
      ],
      "text/plain": [
       "    0     a     l     n   O  item_abstot_x  item_abstot_y summary_outcome  \\\n",
       "0 NaN  <NA>  <NA>  <NA>  BR     13594501.0     15471856.0         ['n=1']   \n",
       "1 NaN  <NA>  <NA>  <NA>  CA     24735095.0     30676696.0         ['n=1']   \n",
       "2 NaN  <NA>  <NA>  <NA>  CN     94577729.0    138760490.0         ['n=1']   \n",
       "3 NaN  <NA>  <NA>  <NA>  DE     79978442.0     75931803.0         ['n=1']   \n",
       "4 NaN  <NA>  <NA>  <NA>  ES      6325710.0     10384719.0         ['n=1']   \n",
       "\n",
       "      list_apts    item_y_x  %_change  \n",
       "0  [\"n=['US']\"]   1877355.0     13.81  \n",
       "1  [\"n=['US']\"]   5941601.0     24.02  \n",
       "2  [\"n=['US']\"]  44182761.0     46.72  \n",
       "3  [\"n=['US']\"]  -4046639.0     -5.06  \n",
       "4  [\"n=['US']\"]   4059009.0     64.17  "
      ]
     },
     "execution_count": 118,
     "metadata": {},
     "output_type": "execute_result"
    }
   ],
   "source": [
    "pivoted_1 = intermediate_df.pivot(index=\"O\", columns=\"outcome\", values=\"count\").reset_index() # .rename_axis(None, axis=1)\n",
    "pivoted_1=pivoted_1.loc[pivoted_1['O'].isin(airports)].reset_index(drop=True) #selected aports\n",
    "pivoted_1[['a', 'l', 'n']]= pivoted_1[['a', 'l', 'n']].replace('', np.nan).astype('Int64')\n",
    "pivoted=pivoted_1.merge(df_largest_aports, on='O', how='outer')\n",
    "# temp=pivoted[['O', 'a', 'l', 'n', 'cargo_abstot_x', 'cargo_abstot_y', '%_change']]\n",
    "# pivoted[['O', 'a', 'l', 'n', 'item_abstot_x', 'item_abstot_y', '%_change']].to_csv(file_label+ \"pivot\" + \".csv\")\n",
    "print(file_label)\n",
    "pivoted.head(5)"
   ]
  },
  {
   "cell_type": "code",
   "execution_count": 119,
   "metadata": {},
   "outputs": [
    {
     "data": {
      "text/plain": [
       "\" Initially calculations were cheched on synthetic data.\\n# code in this cell is to create synthetic data\\n# empty dataframe\\ntemp_df=pd.DataFrame()\\n\\n# dataframe with origins and destinations,n passengers and column with random zeroes\\n\\n# column O - random letters from first to 13th in alphabet\\ntemp_df['O'] = random.choices(string.ascii_letters[0:13], k=1000)\\n# column D - random letters from 13th to last (26th() in alphabet\\ntemp_df['D'] = random.choices(string.ascii_letters[14:26], k=1000)\\n# column with random numbers from 1 to 10000\\ntemp_df['n_pas19'] = np.random.randint(1, 10000, size=1000)\\n# column with random numbers from 1 to 10000\\ntemp_df['n_pas23'] = np.random.randint(1, 10000, size=1000)\\n# column with random numbers from 0 to 1\\ntemp_df['Ran_zero1'] = temp_df.apply(lambda _: random.randint(0, 1), axis=1)\\n# column with random numbers from 0 to 1\\ntemp_df['Ran_zero2'] = temp_df.apply(lambda _: random.randint(0, 1), axis=1)\\n# deletings randolmly rows (multiplyig by zero or 1)\\ntemp_df['n_pas19'] = temp_df['n_pas19']* temp_df['Ran_zero1']\\n# deletings randolmly rows (multiplyig by zero or 1)\\ntemp_df['n_pas23'] = temp_df['n_pas23']* temp_df['Ran_zero2']\\nprint('\\n temp_df',temp_df.keys())\\n# creating synthetic data for year 2019\\ndf_2019=temp_df[['O', 'D', 'n_pas19']].copy()\\n# deleting rows with zero passangers (product of multiplication by zero)\\ndf_2019= df_2019[df_2019['n_pas19'] != 0]\\n\\n# creating synthetic data for year 2023\\ndf_2023=temp_df[['O', 'D', 'n_pas23']].copy()\\n# deleting rows with zero passangers (product of multiplication by zero)\\ndf_2023= df_2023[df_2023['n_pas23'] != 0]\\nprint('\\n df_2019',df_2019.keys())\\nprint('\\n df_2023',df_2023.keys())\""
      ]
     },
     "execution_count": 119,
     "metadata": {},
     "output_type": "execute_result"
    }
   ],
   "source": [
    "''' Initially calculations were cheched on synthetic data.\n",
    "# code in this cell is to create synthetic data\n",
    "# empty dataframe\n",
    "temp_df=pd.DataFrame()\n",
    "\n",
    "# dataframe with origins and destinations,n passengers and column with random zeroes\n",
    "\n",
    "# column O - random letters from first to 13th in alphabet\n",
    "temp_df['O'] = random.choices(string.ascii_letters[0:13], k=1000)\n",
    "# column D - random letters from 13th to last (26th() in alphabet\n",
    "temp_df['D'] = random.choices(string.ascii_letters[14:26], k=1000)\n",
    "# column with random numbers from 1 to 10000\n",
    "temp_df['n_pas19'] = np.random.randint(1, 10000, size=1000)\n",
    "# column with random numbers from 1 to 10000\n",
    "temp_df['n_pas23'] = np.random.randint(1, 10000, size=1000)\n",
    "# column with random numbers from 0 to 1\n",
    "temp_df['Ran_zero1'] = temp_df.apply(lambda _: random.randint(0, 1), axis=1)\n",
    "# column with random numbers from 0 to 1\n",
    "temp_df['Ran_zero2'] = temp_df.apply(lambda _: random.randint(0, 1), axis=1)\n",
    "# deletings randolmly rows (multiplyig by zero or 1)\n",
    "temp_df['n_pas19'] = temp_df['n_pas19']* temp_df['Ran_zero1']\n",
    "# deletings randolmly rows (multiplyig by zero or 1)\n",
    "temp_df['n_pas23'] = temp_df['n_pas23']* temp_df['Ran_zero2']\n",
    "print('\\n temp_df',temp_df.keys())\n",
    "# creating synthetic data for year 2019\n",
    "df_2019=temp_df[['O', 'D', 'n_pas19']].copy()\n",
    "# deleting rows with zero passangers (product of multiplication by zero)\n",
    "df_2019= df_2019[df_2019['n_pas19'] != 0]\n",
    "\n",
    "# creating synthetic data for year 2023\n",
    "df_2023=temp_df[['O', 'D', 'n_pas23']].copy()\n",
    "# deleting rows with zero passangers (product of multiplication by zero)\n",
    "df_2023= df_2023[df_2023['n_pas23'] != 0]\n",
    "print('\\n df_2019',df_2019.keys())\n",
    "print('\\n df_2023',df_2023.keys())'''"
   ]
  }
 ],
 "metadata": {
  "kernelspec": {
   "display_name": "venv_sep22_2023",
   "language": "python",
   "name": "python3"
  },
  "language_info": {
   "codemirror_mode": {
    "name": "ipython",
    "version": 3
   },
   "file_extension": ".py",
   "mimetype": "text/x-python",
   "name": "python",
   "nbconvert_exporter": "python",
   "pygments_lexer": "ipython3",
   "version": "3.10.12"
  }
 },
 "nbformat": 4,
 "nbformat_minor": 2
}
